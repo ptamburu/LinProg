{
 "cells": [
  {
   "cell_type": "markdown",
   "metadata": {},
   "source": [
    "1 Crie um programa que recebe uma lista de números e\n",
    "- retorne o maior elemento\n",
    "- retorne a soma dos elementos\n",
    "- retorne o número de ocorrências do primeiro elemento da lista\n",
    "- retorne a média dos elementos\n",
    "- retorne o valor mais próximo da média dos elementos\n",
    "- retorne a soma dos elementos com valor negativo\n",
    "- retorne a quantidade de vizinhos iguais"
   ]
  },
  {
   "cell_type": "code",
   "execution_count": 16,
   "metadata": {},
   "outputs": [
    {
     "name": "stdout",
     "output_type": "stream",
     "text": [
      "Digite 5 numeros1\n",
      "Digite 5 numeros1\n",
      "Digite 5 numeros1\n",
      "Digite 5 numeros1\n",
      "Digite 5 numeros1\n",
      "O maior elemento da lista é: 1 \n",
      "A soma dos elementos da lista é: 5 \n",
      "O número de ocorrencias do primeiro elemento é: [1, 1, 1, 1, 1] \n",
      "A media dos elementos é: 1.0 \n",
      "Valor mais próximo da média dos elementos 1\n",
      "A soma dos valores negativos é: 0\n",
      "A quantidade de vizinhos iguais é: 4\n"
     ]
    }
   ],
   "source": [
    "import math\n",
    "\n",
    "lista= []\n",
    "for i in range (0,5):\n",
    "    x= int (input ('Digite 5 numeros'))\n",
    "    lista.append(x)\n",
    "\n",
    "maior = max(lista)\n",
    "soma = sum(lista)\n",
    "ocorrencia = lista.count(lista[0])\n",
    "negativo = sum(i for i in lista if i < 0)\n",
    "media = soma/ len(lista)\n",
    "\n",
    "proximo = lista[0]\n",
    "diferenca = media - lista[0]\n",
    "menor_diferenca = diferenca\n",
    "for num in lista:\n",
    "    #valor mais próximo da média\n",
    "    diferenca = media - num\n",
    "    if diferenca < 0:\n",
    "        diferenca = diferenca * -1\n",
    "    if diferenca < menor_diferenca:\n",
    "        menor_diferenca = diferenca\n",
    "        proximo = num\n",
    "\n",
    "\n",
    "print(f\"O maior elemento da lista é: {maior} \" )\n",
    "print(f\"A soma dos elementos da lista é: {soma} \" )\n",
    "print(f\"O número de ocorrencias do primeiro elemento é: {lista} \")\n",
    "print(f\"A media dos elementos é: {media} \")\n",
    "print(f\"Valor mais próximo da média dos elementos {proximo}\")\n",
    "print(f\"A soma dos valores negativos é: {negativo}\")\n",
    "\n",
    "vizinho = 0\n",
    "for i in range(len(lista)):\n",
    "    if(i < (len(lista)-1)):        \n",
    "        if(lista[i] == lista[i+1]):\n",
    "            vizinho += 1        \n",
    "\n",
    "print(f\"A quantidade de vizinhos iguais é: {vizinho}\")"
   ]
  },
  {
   "cell_type": "markdown",
   "metadata": {},
   "source": [
    " "
   ]
  },
  {
   "cell_type": "markdown",
   "metadata": {},
   "source": [
    "2 Faça um programa que receba duas listas e retorne True se são iguais ou False caso contrario. Duas listas são iguais se possuem os mesmos valores e na mesma ordem."
   ]
  },
  {
   "cell_type": "code",
   "execution_count": 21,
   "metadata": {},
   "outputs": [
    {
     "name": "stdout",
     "output_type": "stream",
     "text": [
      "Digite um valor para incluir na lista oi\n",
      "Digite um valor para incluir na lista tudo\n",
      "Digite um valor para incluir na lista bem\n",
      "Digite um valor para incluir na lista amigo\n",
      "Digite um valor para incluir na lista 2 oi\n",
      "Digite um valor para incluir na lista 2 tudo\n",
      "Digite um valor para incluir na lista 2 bem\n",
      "Digite um valor para incluir na lista 2 amigo\n",
      "True\n"
     ]
    }
   ],
   "source": [
    "lista = [input(\"Digite um valor para incluir na lista \") for i in range(4)]\n",
    "lista2 = [input(\"Digite um valor para incluir na lista 2 \") for i in range(4)]\n",
    "\n",
    "\n",
    "if lista == lista2:\n",
    "    print(\"True\")\n",
    "else:\n",
    "    print(\"False\")"
   ]
  },
  {
   "cell_type": "markdown",
   "metadata": {},
   "source": [
    "3 Faça um programa que receba duas listas e retorne True se têm os mesmos elementos ou False caso contrário\n",
    "Duas listas possuem os mesmos elementos quando são compostas pelos mesmos valores, mas não obrigatoriamente na mesma ordem."
   ]
  },
  {
   "cell_type": "code",
   "execution_count": 1,
   "metadata": {},
   "outputs": [
    {
     "name": "stdout",
     "output_type": "stream",
     "text": [
      "Digite um valor para incluir na lista: 1\n",
      "Digite um valor para incluir na lista: 2\n",
      "Digite um valor para incluir na lista: 3\n",
      "Digite um valor para incluir na lista2: 3\n",
      "Digite um valor para incluir na lista2: 2\n",
      "Digite um valor para incluir na lista2: 1\n",
      "True\n"
     ]
    }
   ],
   "source": [
    "lista = [input(\"Digite um valor para incluir na lista: \") for i in range(3)]\n",
    "lista2 = [input(\"Digite um valor para incluir na lista2: \") for i in range(3)]\n",
    "\n",
    "lista.sort()\n",
    "lista2.sort()\n",
    "\n",
    "if lista == lista2:\n",
    "    print(\"True\")\n",
    "else:\n",
    "    print(\"False\")"
   ]
  },
  {
   "cell_type": "markdown",
   "metadata": {},
   "source": [
    "4 Faça um programa que percorre uma lista com o seguinte formato: [['Brasil',\n",
    "'Italia', [10, 9]], ['Brasil', 'Espanha', [5, 7]], ['Italia', 'Espanha', [7,8]]]. Essa lista indica o\n",
    "número de faltas que cada time fez em cada jogo. Na lista acima, no jogo entre Brasil\n",
    "e Itália, o Brasil fez 10 faltas e a Itália fez 9.\n",
    "O programa deve imprimir na tela:\n",
    "- o total de faltas do campeonato\n",
    "- o time que fez mais faltas\n",
    "- o time que fez menos faltas"
   ]
  },
  {
   "cell_type": "code",
   "execution_count": 2,
   "metadata": {},
   "outputs": [
    {
     "name": "stdout",
     "output_type": "stream",
     "text": [
      "46\n",
      "{'Brasil': 15, 'Italia': 16, 'Espanha': 15}\n"
     ]
    }
   ],
   "source": [
    "jogos = [['Brasil','Italia', [10, 9]], ['Brasil', 'Espanha', [5, 7]], ['Italia', 'Espanha', [7,8]]]\n",
    "total_faltas = 0\n",
    "for jogo in jogos:\n",
    "    total_faltas += jogo[2][0]\n",
    "    total_faltas += jogo[2][1]\n",
    "print (total_faltas)\n",
    "\n",
    "d = {}\n",
    "for jogo in jogos:\n",
    "    d[jogo[0]] = 0\n",
    "    d[jogo[1]] = 0\n",
    "\n",
    "for jogo in jogos:\n",
    "    d[jogo[0]] += jogo[2][0]\n",
    "    d[jogo[1]] += jogo[2][1]\n",
    "\n",
    "print (d)"
   ]
  },
  {
   "cell_type": "markdown",
   "metadata": {},
   "source": [
    "5 Escreva um programa que conta a quantidade de vogais em uma string e armazena\n",
    "tal quantidade em um dicionário, onde a chave é a vogal considerada."
   ]
  },
  {
   "cell_type": "code",
   "execution_count": 7,
   "metadata": {},
   "outputs": [
    {
     "name": "stdout",
     "output_type": "stream",
     "text": [
      "Digite uma palavra: Inconstitucionalissimamente]\n",
      "{'a': 2, 'e': 2, 'i': 5, 'o': 2, 'u': 1}\n"
     ]
    }
   ],
   "source": [
    "palavra  = input(\"Digite uma palavra: \").lower()\n",
    "vogal = ['a', 'e', 'i', 'o', 'u']\n",
    "\n",
    "dicionario = {'a': 0, 'e': 0, 'i':0, 'o': 0, 'u': 0}\n",
    "\n",
    "for letra in palavra:\n",
    "    if letra in vogal:\n",
    "        dicionario[letra] = dicionario[letra] + 1\n",
    "print(dicionario)"
   ]
  },
  {
   "cell_type": "markdown",
   "metadata": {},
   "source": [
    "6 Escreva um programa que l duas notas de vários alunos e ê̂ duas notas de vários alunos e armazena tais notas em armazena tais notas em\n",
    "um dicionário, onde a chave é o nome do aluno. A entrada de dados deve terminar\n",
    "quando for lida uma string vazia como nome. Escreva uma função que retorna a\n",
    "média do aluno, dado seu nome."
   ]
  },
  {
   "cell_type": "code",
   "execution_count": 14,
   "metadata": {},
   "outputs": [
    {
     "name": "stdout",
     "output_type": "stream",
     "text": [
      "Insira o nome do aluno: Pedro\n",
      "Insira a primeira nota: 7\n",
      "Insira a segunda nota: 2\n",
      "Insira o nome do aluno: Paulo\n",
      "Insira a primeira nota: 9\n",
      "Insira a segunda nota: 5\n",
      "Insira o nome do aluno: \n",
      "Insira o nome do aluno o qual deseja ver a média: Paulo\n"
     ]
    },
    {
     "data": {
      "text/plain": [
       "7.0"
      ]
     },
     "execution_count": 14,
     "metadata": {},
     "output_type": "execute_result"
    }
   ],
   "source": [
    "dicionario = {}\n",
    "\n",
    "nome = input(\"Insira o nome do aluno: \")\n",
    "while nome != \"\":\n",
    "    dicionario[nome] = [\n",
    "        float(input(\"Insira a primeira nota: \")),\n",
    "        float(input(\"Insira a segunda nota: \"))\n",
    "    ]\n",
    "    nome = input(\"Insira o nome do aluno: \")\n",
    "\n",
    "def media(nome):\n",
    "    return (dicionario[nome][0] + dicionario[nome][1]) / 2\n",
    "\n",
    "media(input(\"Insira o nome do aluno o qual deseja ver a média: \"))"
   ]
  },
  {
   "cell_type": "markdown",
   "metadata": {},
   "source": [
    "7 Uma pista de Kart permite 10 voltas para cada um de 6 corredores. Escreva um\n",
    "programa que leia todos os tempos em segundos e os guarde em um dicionário,\n",
    "onde a chave é o nome do corredor. Ao final diga de quem foi a melhor volta da\n",
    "prova e em que volta; e ainda a classificação final em ordem (1o o campeão). O\n",
    "campeão é o que tem a menor média de tempos."
   ]
  },
  {
   "cell_type": "code",
   "execution_count": 17,
   "metadata": {},
   "outputs": [
    {
     "name": "stdout",
     "output_type": "stream",
     "text": [
      "1° lugar: Rodrigo - 59.9 segs.\n",
      "2° lugar: Pedro - 60.6 segs.\n",
      "3° lugar: Jonathan - 60.8 segs.\n",
      "4° lugar: Jorge - 61.2 segs.\n",
      "5° lugar: Fabio - 61.6 segs.\n",
      "6° lugar: Mauricio - 63.8 segs.\n"
     ]
    }
   ],
   "source": [
    "import operator\n",
    "\n",
    "dicionario = {\n",
    "    \"Pedro\": [57, 58, 60, 56, 64, 70, 59, 58, 69, 55],\n",
    "    \"Jonathan\": [56, 60, 72, 50, 67, 58, 61, 63, 62, 59],\n",
    "    \"Rodrigo\": [79, 52, 58, 48, 58, 59, 61, 65, 59, 60],\n",
    "    \"Mauricio\": [56, 50, 55, 70, 85, 73, 68, 65, 56, 60],\n",
    "    \"Jorge\": [69, 55, 67, 50, 52, 53, 70, 75, 65, 56],\n",
    "    \"Fabio\": [56, 63, 63, 65, 70, 59, 55, 60, 63, 62]\n",
    "}\n",
    "\n",
    "volta = 0\n",
    "medias = dicionario\n",
    "nome = \"\"\n",
    "melhor_volta = dicionario[\"Jorge\"][0]\n",
    "for chave in dicionario:\n",
    "    soma = 0\n",
    "    for num in dicionario[chave]:\n",
    "        if num < melhor_volta:\n",
    "            melhor_volta = num\n",
    "            nome = chave\n",
    "        soma += num\n",
    "    medias[chave] = soma / 10\n",
    "\n",
    "sort = sorted(medias.items(), key=operator.itemgetter(1))\n",
    "for i in range(0, 6):\n",
    "    print(\"%s° lugar: %s - %s segs.\" % (i + 1, sort[i][0], sort[i][1]))"
   ]
  },
  {
   "cell_type": "markdown",
   "metadata": {},
   "source": [
    "8 Escreva um programa para armazenar uma agenda de telefones em um dicionário.\n",
    "Cada pessoa pode ter um ou mais telefones e a chave do dicionário é o nome da\n",
    "pessoa. Seu programa deve ter as seguintes funções:\n",
    "incluirNovoNome – essa função acrescenta um novo nome na agenda, com um ou\n",
    "mais telefones. Ela deve receber como argumentos o nome e os telefones.\n",
    "incluirTelefone – essa função acrescenta um telefone em um nome existente na\n",
    "agenda. Caso o nome não exista na agenda, você deve perguntar se a pessoa deseja\n",
    "inclui-lo. Caso a resposta seja afirmativa, use a função anterior para incluir o novo\n",
    "nome.\n",
    "excluirTelefone – essa função exclui um telefone de uma pessoa que já está na\n",
    "agenda. Se a pessoa tiver apenas um telefone, ela deve ser excluída da agenda."
   ]
  },
  {
   "cell_type": "code",
   "execution_count": null,
   "metadata": {},
   "outputs": [],
   "source": [
    "listaTelefonica = {}\n",
    "\n",
    "def incluirNovoNome(novoNome, novoTelefone): \n",
    "    listaTelefonica.update({novoNome:[telefone]})\n",
    "    \n",
    "def incluirTelefone(buscaNome, novoTelefone):\n",
    "    listaTelefonica.update({buscaNome:[novoTelefone]})\n",
    "\n",
    "def excluirTelefone(excluiTelefone):\n",
    "    del(listaTelefonica[excluiTelefone])\n",
    "    \n",
    "def excluirNome(excluiNome):\n",
    "    listaTelefonica.pop(excluiNome)\n",
    "    \n",
    "def consultarTelefone(nome):\n",
    "    print(listaTelefonica[nome])\n",
    "\n",
    "nome = input(\"Digite o nome \")\n",
    "telefone = input(\"Digite o(s) telefone(s) \")\n",
    "incluirNovoNome(nome, telefone)\n",
    "\n",
    "nome = input(\"Digite o nome\")\n",
    "telefone = input(\"Digite o(s) telefone(s) \")\n",
    "incluirTelefone(nome, telefone)\n",
    "\n",
    "telefone = input(\"Exclua um telefone(s) \")\n",
    "excluirTelefone(telefone)\n",
    "\n",
    "nome = input(\"Exclua um contanto \")\n",
    "excluirNome(nome)\n",
    "\n",
    "nome = input(\"Consulte o nome \")\n",
    "consultarTelefone(nome)\n",
    "\n",
    "print(listaTelefonica)"
   ]
  },
  {
   "cell_type": "markdown",
   "metadata": {},
   "source": [
    "9 Faça um programa que leia um arquivo texto contendo uma lista de endereços IP e gere um outro arquivo, contendo um relatório dos endereços IP válidos e inválidos. O arquivo de entrada possui o seguinte formato:"
   ]
  },
  {
   "cell_type": "code",
   "execution_count": null,
   "metadata": {},
   "outputs": [],
   "source": [
    "import re\n",
    "def regex(pattern, string):\n",
    "\tcapt = re.match(pattern, string)\n",
    "\tif bool(capt):\n",
    "\t\treturn capt.group()\n",
    "\treturn False\n",
    "\n",
    "ip_v = ''\n",
    "ip_i = ''\n",
    "list = {'0.25.33.19', '127.0.1.1','127.0.0.2','127.0.0.1','192.0.0.256','0.168.1.36','1.1.0.99','200.135.80.9','192.168.1.1','8.35.67.74','257.32.4.5','85.345.1.2','1.2.3.4','9.8.234.5','192.168.0.256'}\n",
    "for ip in list:\n",
    "\tif ip == '0.0.0.0':\n",
    "\t\tip_v = ip_v + '\\n' + ip\n",
    "\telif regex('^(([1-9]\\.|[1-9][0-9]\\.|1[0-9][0-9]\\.|2[0-4][0-9]\\.|25[0-5]\\.)([0-9]\\.|[1-9][0-9]\\.|1[0-9][0-9]\\.|2[0-4][0-9]\\.|25[0-5]\\.)([0-9]\\.|[1-9][0-9]\\.|1[0-9][0-9]\\.|2[0-4][0-9]\\.|25[0-5]\\.)([0-9]\\.|[1-9][0-9]\\.|1[0-9][0-9]\\.|2[0-4][0-9]\\.|25[0-5]\\.))$', ip + '.'):\n",
    "\t\tip_v = ip_v + '\\n' + ip\n",
    "\telse:\n",
    "\t\tip_i = ip_i + '\\n' + ip\n",
    "\n",
    "print('[Endereços válidos:]')\n",
    "print(ip_v)\n",
    "print('[Endereços inválidos:]')\n",
    "print(ip_i)"
   ]
  },
  {
   "cell_type": "markdown",
   "metadata": {},
   "source": [
    "10 A ACME Inc., uma empresa de 500 funcionários, está tendo problemas de espaço\n",
    "em disco no seu servidor de arquivos. Para tentar resolver este problema, o\n",
    "Administrador de Rede precisa saber qual o espaço ocupado pelos usuários, e\n",
    "identificar os usuários com maior espaço ocupado. Através de um programa, baixado\n",
    "da Internet, ele conseguiu gerar o seguinte arquivo, chamado \"usuarios.txt\"\n",
    "Neste arquivo, o nome do usuário possui 15 caracteres. A partir deste arquivo, você\n",
    "deve criar um programa que gere um relatório, chamado \"relatório.txt\", no seguinte\n",
    "formato. \n",
    "O arquivo de entrada deve ser lido uma única vez, e os dados armazenados em\n",
    "memória, caso sejam necessários, de forma a agilizar a execução do programa. A\n",
    "conversão da espaço ocupado em disco, de bytes para megabytes deverá ser feita\n",
    "através de uma função separada, que será chamada pelo programa principal. O\n",
    "cálculo do percentual de uso também deverá ser feito através de uma função, que\n",
    "será chamada pelo programa principal."
   ]
  },
  {
   "cell_type": "code",
   "execution_count": null,
   "metadata": {},
   "outputs": [],
   "source": [
    "def toMB(tamanhoEmBytes):\n",
    "    tamanhoEmBytes = float(tamanhoEmBytes)\n",
    "    return (float(tamanhoEmBytes/(1024*1024)))\n",
    "   \n",
    "def percentualPorUsuario(lista, total):\n",
    "    percentual = (lista[3]/total)*100\n",
    "   #percentual = \"{0:.2f}\".format(percentual)\n",
    "    lista.insert((len(cadaUsuario)),percentual)\n",
    "\n",
    "def espacoMedioOcupado(lista, total):\n",
    "    media = 0\n",
    "    total=2\n",
    "    elementos = len(lista)\n",
    "    media = (total)/(elementos+1)\n",
    "   #media = \"{0:.2f}\".format(media)\n",
    "    return media\n",
    "\n",
    "#MAIN\n",
    "usuarios = []\n",
    "posicao = 1\n",
    "total = media = 0\n",
    "cadaUsuario = 0\n",
    "with open (\"usuarios.txt\",\"r\") as arquivo:\n",
    "    valor = 0\n",
    "    for linha in arquivo:\n",
    "        usuarios.append(linha.split()) \n",
    "\n",
    "    for cadaUsuario in usuarios:\n",
    "        cadaUsuario.insert(0,posicao)\n",
    "        valor = toMB(float(cadaUsuario[2]))\n",
    "        total += valor\n",
    "        cadaUsuario.insert((len(cadaUsuario)),valor)\n",
    "        posicao+=1\n",
    "\n",
    "    for cadaUsuario in usuarios:\n",
    "        percentualPorUsuario(cadaUsuario, total)\n",
    "\n",
    "media = espacoMedioOcupado(cadaUsuario,total)\n",
    "with open (\"relatorio.txt\",\"w\") as arquivo:\n",
    "    arquivo.write(\"ACME Inc.               Uso do espaço em disco pelos usuários.\\n\")\n",
    "    arquivo.write(\"--------------------------------------------------------------\\n\")\n",
    "    arquivo.write(\"Nr.\\tUsuário        \\tEspaço utilizado\\t% do uso\\n\\n\")\n",
    "\n",
    "    for cadaUsuario in usuarios:\n",
    "        percentagem=\"{0:.2f}\".format(round(cadaUsuario[3],2))\n",
    "        arquivo.write(str(cadaUsuario[0])+'\\t'+\"{:<15}\".format(cadaUsuario[1])+'\\t'+\"{:<16}\".format(percentagem)+'MB'+'\\t'+\"{0:.2f}\".format(cadaUsuario[4])+'%'+'\\n')\n",
    "\n",
    "        arquivo.write('\\n\\nEspaço Total Ocupado: ' + \"{0:.2f}\".format(total) + ' MB')\n",
    "        arquivo.write('\\n\\nEspaço médio Ocupado: ' + \"{0:.2f}\".format(media) + ' MB')\n",
    "    arquivo.close()\n",
    "\n",
    "with open (\"relatorio.txt\",\"r\") as arquivo:\n",
    "    print(arquivo.read())"
   ]
  }
 ],
 "metadata": {
  "kernelspec": {
   "display_name": "Python 3",
   "language": "python",
   "name": "python3"
  },
  "language_info": {
   "codemirror_mode": {
    "name": "ipython",
    "version": 3
   },
   "file_extension": ".py",
   "mimetype": "text/x-python",
   "name": "python",
   "nbconvert_exporter": "python",
   "pygments_lexer": "ipython3",
   "version": "3.7.1"
  }
 },
 "nbformat": 4,
 "nbformat_minor": 2
}
