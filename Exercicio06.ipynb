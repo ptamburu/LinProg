{
 "cells": [
  {
   "cell_type": "markdown",
   "metadata": {},
   "source": [
    "1 - Defina a função soma_nat que recebe como argumento um número natural n e devolve a soma de todos os números naturais até n."
   ]
  },
  {
   "cell_type": "code",
   "execution_count": 5,
   "metadata": {},
   "outputs": [
    {
     "name": "stdout",
     "output_type": "stream",
     "text": [
      "15\n"
     ]
    }
   ],
   "source": [
    "def soma_nat(n):\n",
    "    return (soma_nat(n-1) + n) if n>0 else 0\n",
    "\n",
    "print(soma_nat(5))"
   ]
  },
  {
   "cell_type": "code",
   "execution_count": 6,
   "metadata": {},
   "outputs": [
    {
     "name": "stdout",
     "output_type": "stream",
     "text": [
      "Teste unitário realizado com sucesso.\n"
     ]
    }
   ],
   "source": [
    "## Teste unitário\n",
    "assert(soma_nat(5) == 15)\n",
    "assert(soma_nat(6) == 21)\n",
    "print('Teste unitário realizado com sucesso.')"
   ]
  },
  {
   "cell_type": "markdown",
   "metadata": {},
   "source": [
    "2 - Defina a função div que recebe como argumentos dois números naturais m e n e devolve o resultado da divisão inteira de m por n. Neste exercício você não pode recorrer às operações aritméticas de multiplicação, divisão e resto da divisão inteira."
   ]
  },
  {
   "cell_type": "code",
   "execution_count": 7,
   "metadata": {},
   "outputs": [],
   "source": [
    "def div(m, n):\n",
    "    return 1 + div(m - n, n) if m >= n else 0"
   ]
  },
  {
   "cell_type": "code",
   "execution_count": 8,
   "metadata": {},
   "outputs": [
    {
     "name": "stdout",
     "output_type": "stream",
     "text": [
      "Teste da função:\n",
      "Divisao de 4 por 2 resulta em  2\n",
      "Divisao de 12 por 7 resulta em  1\n",
      "Divisao de 11 por 6 resulta em  1\n",
      "Divisao de 3 por 7 resulta em  0\n",
      "Divisao de 220 por 11 resulta em  20\n",
      "Fim do teste de função\n"
     ]
    }
   ],
   "source": [
    "## Teste unitário\n",
    "assert(div(4,2) == 2)\n",
    "assert(div(4,3) == 1)\n",
    "assert(div(7,3) == 2)\n",
    "print('Teste da função:')\n",
    "print('Divisao de 4 por 2 resulta em ' , div(4,2))\n",
    "print('Divisao de 12 por 7 resulta em ' , div(12,7))\n",
    "print('Divisao de 11 por 6 resulta em ' , div(11,6))\n",
    "print('Divisao de 3 por 7 resulta em ' , div(3,7))\n",
    "print('Divisao de 220 por 11 resulta em ' , div(220,11))\n",
    "print('Fim do teste de função')"
   ]
  },
  {
   "cell_type": "markdown",
   "metadata": {},
   "source": [
    "3 - Defina a função prim_alg que recebe como argumento um número natural e devolve o primeiro algarismo (o mais significativo) na representação decimal de n."
   ]
  },
  {
   "cell_type": "code",
   "execution_count": 2,
   "metadata": {},
   "outputs": [
    {
     "name": "stdout",
     "output_type": "stream",
     "text": [
      "Teste da função:\n",
      "Ao definir  0  o resultado é  0\n",
      "Ao definir  1  o resultado é  1\n",
      "Ao definir  2  o resultado é  2\n",
      "Ao definir  3  o resultado é  3\n",
      "Ao definir  18  o resultado é  1\n",
      "Ao definir  19  o resultado é  1\n",
      "Ao definir  25  o resultado é  2\n",
      "Ao definir  27  o resultado é  2\n",
      "Ao definir  48  o resultado é  4\n",
      "Ao definir  87  o resultado é  8\n",
      "Ao definir  93  o resultado é  9\n",
      "Ao definir  100  o resultado é  1\n",
      "Fim do teste de função.\n"
     ]
    }
   ],
   "source": [
    "def prim_alg(n):\n",
    "    return int(str(n)[:1])\n",
    "\n",
    "print('Teste da função:')\n",
    "testes = [0,1,2,3,18,19,25,27,48,87,93,100]\n",
    "for teste in testes:\n",
    "    print('Ao definir ' , teste , ' o resultado é ', prim_alg(teste))\n",
    "    \n",
    "print('Fim do teste de função.')"
   ]
  },
  {
   "cell_type": "code",
   "execution_count": 3,
   "metadata": {},
   "outputs": [],
   "source": [
    "## teste unitário\n",
    "assert(prim_alg(235) == 2)\n",
    "assert(prim_alg(5) == 5)\n",
    "assert(prim_alg(8960) == 8)"
   ]
  },
  {
   "cell_type": "markdown",
   "metadata": {},
   "source": [
    "4 - Defina a função prod_lista que recebe como argumento uma lista de inteiros e devolve o produto dos seus elementos."
   ]
  },
  {
   "cell_type": "code",
   "execution_count": 4,
   "metadata": {},
   "outputs": [],
   "source": [
    "def prod_lista(lista):\n",
    "    return lista[len(lista) - 1] * prod_lista(lista[:-1]) if len(lista) > 0 else 1"
   ]
  },
  {
   "cell_type": "code",
   "execution_count": 5,
   "metadata": {},
   "outputs": [
    {
     "name": "stdout",
     "output_type": "stream",
     "text": [
      "Teste da função:\n",
      "Ao multiplicar 1,2,3,5,7,10 e  0  o resultado é  0\n",
      "Ao multiplicar 1,2,3,5,7,10 e  1  o resultado é  2100\n",
      "Ao multiplicar 1,2,3,5,7,10 e  2  o resultado é  4200\n",
      "Ao multiplicar 1,2,3,5,7,10 e  3  o resultado é  6300\n",
      "Ao multiplicar 1,2,3,5,7,10 e  4  o resultado é  8400\n"
     ]
    }
   ],
   "source": [
    "##teste unitario\n",
    "assert(prod_lista([1,2,3,4,5,6]) == 720)\n",
    "print('Teste da função:')\n",
    "for teste in range(5):\n",
    "    lista = [7,5,3,1,2,10,teste]\n",
    "    print('Ao multiplicar 1,2,3,5,7,10 e ' , teste , ' o resultado é ', prod_lista(lista))"
   ]
  },
  {
   "cell_type": "markdown",
   "metadata": {},
   "source": [
    "5 Defina a função contem_parQ que recebe como argumento uma lista de números\n",
    "inteiros w e devolve True se w contém um número par e False em caso contrário.\n",
    "Ex: contem_parQ([2,3,1,2,3,4]) = True\n",
    "Ex: contem_parQ([1,3,5,7]) = False\n"
   ]
  },
  {
   "cell_type": "code",
   "execution_count": 6,
   "metadata": {},
   "outputs": [],
   "source": [
    "def contem_parQ(w):\n",
    "    return False if len(w) == 0 or (w[len(w) - 1] % 2 != 0 and not contem_parQ(w[:-1])) else True"
   ]
  },
  {
   "cell_type": "code",
   "execution_count": 7,
   "metadata": {},
   "outputs": [],
   "source": [
    "assert(contem_parQ([2,3,1,2,3,4]) == True)\n",
    "assert(contem_parQ([1,3,5,7]) == False)"
   ]
  },
  {
   "cell_type": "markdown",
   "metadata": {},
   "source": [
    "6 Defina a função todos_imparesQ que recebe como argumento uma lista de\n",
    "números inteiros w e devolve True se w contém apenas números ímpares e False\n",
    "em caso contrário.\n",
    "Ex: todos_imparesQ([1,3,5,7]) = True\n",
    "Ex: todos_imparesQ([]) = True\n",
    "Ex: todos_imparesQ([1,2,3,4,5]) = False"
   ]
  },
  {
   "cell_type": "code",
   "execution_count": 9,
   "metadata": {},
   "outputs": [],
   "source": [
    "def todos_imparesQ(w):\n",
    "    return True if len(w) == 0 or (w[len(w) - 1] % 2 != 0 and todos_imparesQ(w[:-1])) else False"
   ]
  },
  {
   "cell_type": "code",
   "execution_count": 10,
   "metadata": {},
   "outputs": [],
   "source": [
    "assert(todos_imparesQ([1,3,5,7]) == True)\n",
    "assert(todos_imparesQ([]) == True)\n",
    "assert(todos_imparesQ([1,2,3,4,5]) == False)"
   ]
  },
  {
   "cell_type": "markdown",
   "metadata": {},
   "source": [
    "10- Defina a função inverteLista que recebe como argumento uma lista w e devolve a mesma lista mas invertida."
   ]
  },
  {
   "cell_type": "code",
   "execution_count": 11,
   "metadata": {},
   "outputs": [
    {
     "name": "stdout",
     "output_type": "stream",
     "text": [
      "Insira números na lista e digite uma letra para parar\n",
      "Insira um número inteiro na lista: 2\n",
      "Insira um número inteiro na lista: 65\n",
      "Insira um número inteiro na lista: 3356\n",
      "Insira um número inteiro na lista: 235324\n",
      "Insira um número inteiro na lista: 74342\n",
      "Insira um número inteiro na lista: 2\n",
      "Insira um número inteiro na lista: 4624\n",
      "Insira um número inteiro na lista: 7\n",
      "Insira um número inteiro na lista: 2\n",
      "Insira um número inteiro na lista: f\n",
      "Lista = [2, 65, 3356, 235324, 74342, 2, 4624, 7, 2]\n",
      "Lista Invertida = [2, 7, 4624, 2, 74342, 235324, 3356, 65, 2]\n"
     ]
    }
   ],
   "source": [
    "def monta_lista():\n",
    "    lista = []\n",
    "    n_lista = []\n",
    "    print('Insira números na lista e digite uma letra para parar')\n",
    "    while True:\n",
    "        item = input('Insira um número inteiro na lista: ')\n",
    "        try:\n",
    "            lista.append(int(item))\n",
    "        except (ValueError, Exception):\n",
    "            print(f'Lista = {lista}')\n",
    "            n_lista = inverte(lista)\n",
    "            print(f'Lista Invertida = {n_lista}')\n",
    "            break\n",
    "\n",
    "## recursivo\n",
    "inverte = lambda lista: (inverte(lista[1:]) + lista[:1] if lista else [])\n",
    "    \n",
    "def f_main():\n",
    "    return monta_lista()\n",
    "\n",
    "f_main()"
   ]
  },
  {
   "cell_type": "markdown",
   "metadata": {},
   "source": []
  }
 ],
 "metadata": {
  "kernelspec": {
   "display_name": "Python 3",
   "language": "python",
   "name": "python3"
  },
  "language_info": {
   "codemirror_mode": {
    "name": "ipython",
    "version": 3
   },
   "file_extension": ".py",
   "mimetype": "text/x-python",
   "name": "python",
   "nbconvert_exporter": "python",
   "pygments_lexer": "ipython3",
   "version": "3.7.1"
  }
 },
 "nbformat": 4,
 "nbformat_minor": 2
}
