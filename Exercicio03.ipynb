{
 "cells": [
  {
   "cell_type": "markdown",
   "metadata": {},
   "source": [
    "Exercicio 03"
   ]
  },
  {
   "cell_type": "markdown",
   "metadata": {},
   "source": [
    "1. Faça um Programa que peça dois números e imprima o maior deles."
   ]
  },
  {
   "cell_type": "code",
   "execution_count": 6,
   "metadata": {},
   "outputs": [
    {
     "name": "stdout",
     "output_type": "stream",
     "text": [
      "Digite um numero13\n",
      "Digite outro numero2\n",
      "13\n"
     ]
    }
   ],
   "source": [
    "num1 = int (input(\"Digite um numero\"))\n",
    "num2 = int (input(\"Digite outro numero\"))\n",
    "maior = 0\n",
    "\n",
    "if num1 >= num2:\n",
    "    print(num1)\n",
    "else:\n",
    "    print(num2)\n"
   ]
  },
  {
   "cell_type": "markdown",
   "metadata": {},
   "source": [
    "2. Faça um Programa que verifique se uma letra digitada é vogal ou consoante.]"
   ]
  },
  {
   "cell_type": "code",
   "execution_count": 7,
   "metadata": {},
   "outputs": [
    {
     "name": "stdout",
     "output_type": "stream",
     "text": [
      "Digite uma letra: a\n",
      "a é uma vogal!\n"
     ]
    }
   ],
   "source": [
    "x = input(\"Digite uma letra: \")\n",
    "if(len(x) > 1):\n",
    "    print('Digite apenas uma letra!')\n",
    "elif(x.upper() == 'A' or x.upper() == 'E' or x.upper() == 'I' or x.upper() == 'O' or x.upper() == 'U'):\n",
    "    print(f'{x} é uma vogal!')\n",
    "else:\n",
    "    print(f'{x} é uma consoante!')"
   ]
  },
  {
   "cell_type": "markdown",
   "metadata": {},
   "source": [
    "3. Faça um programa para a leitura de duas notas parciais de um aluno. O programa deve calcular a média alcançada por aluno e apresentar:\n",
    "- A mensagem \"Aprovado\", se a média alcançada for maior ou igual a sete;\n",
    "- A mensagem \"Reprovado\", se a média for menor do que sete;\n",
    "- A mensagem \"Aprovado com Distinção\", se a média for igual a dez."
   ]
  },
  {
   "cell_type": "code",
   "execution_count": 9,
   "metadata": {},
   "outputs": [
    {
     "name": "stdout",
     "output_type": "stream",
     "text": [
      "Insira a primeira nota: 10\n",
      "Insira a segunda nota: 10\n",
      "Média: 10.00 - Status: Aprovado com Distinção\n"
     ]
    }
   ],
   "source": [
    "x = float(input(\"Insira a primeira nota: \"))\n",
    "y = float(input(\"Insira a segunda nota: \"))\n",
    "lst = [x, y]\n",
    "msg = ['Aprovado', 'Reprovado', 'Aprovado com Distinção']\n",
    "average = (sum(lst)/len(lst))\n",
    "\n",
    "if average == 10:\n",
    "    print(\"Média: %.2f - Status: %s\" %(average, msg[2]))\n",
    "elif average>= 7 and average < 10:\n",
    "    print(\"Média: %.2f - Status: %s\" %(average, msg[0]))\n",
    "elif average < 7:\n",
    "    print(\"Média: %.2f - Status: %s\" %(average, msg[1]))"
   ]
  },
  {
   "cell_type": "markdown",
   "metadata": {},
   "source": [
    "4. Faça um Programa que leia três números e mostre-os em ordem decrescente."
   ]
  },
  {
   "cell_type": "code",
   "execution_count": 11,
   "metadata": {},
   "outputs": [
    {
     "name": "stdout",
     "output_type": "stream",
     "text": [
      "Insira um número: 10\n",
      "Insira outro número: 2\n",
      "Insira mais um número: 8\n",
      "[2.0, 8.0, 10.0]\n"
     ]
    }
   ],
   "source": [
    "x = float(input(\"Insira um número: \"))\n",
    "y = float(input(\"Insira outro número: \"))\n",
    "z = float(input(\"Insira mais um número: \"))\n",
    "lst = [x, y, z]\n",
    "lst.sort()\n",
    "print(lst)"
   ]
  },
  {
   "cell_type": "markdown",
   "metadata": {},
   "source": [
    "5. As Organizações Tabajara resolveram dar um aumento de salário aos seus\n",
    "colaboradores e lhe contrataram para desenvolver o programa que calculará os\n",
    "reajustes.\n",
    "Faça um programa que recebe o salário de um colaborador e o reajuste segundo o\n",
    "seguinte critério, baseado no salário atual:\n",
    "- salários até R$ 280,00 (incluindo) : aumento de 20%\n",
    "- salários entre R$ 280,00 e R$ 700,00 : aumento de 15%\n",
    "- salários entre R$ 700,00 e R$ 1500,00 : aumento de 10%\n",
    "- salários de R$ 1500,00 em diante : aumento de 5% Após o aumento ser realizado,\n",
    "informe na tela:\n",
    "- o salário antes do reajuste;\n",
    "- o percentual de aumento aplicado;\n",
    "- o valor do aumento;\n",
    "- o novo salário, após o aumento."
   ]
  },
  {
   "cell_type": "code",
   "execution_count": 13,
   "metadata": {},
   "outputs": [
    {
     "name": "stdout",
     "output_type": "stream",
     "text": [
      "Insira o valor do salário: 280\n",
      "\n",
      "\n",
      "salario antigo = 280.00\n",
      "------------------------------\n",
      "percentual aplicado = 20.00\n",
      "------------------------------\n",
      "valor do aumento = 56.00\n",
      "------------------------------\n",
      "novo salario = 336.00\n",
      "------------------------------\n"
     ]
    }
   ],
   "source": [
    "salario = float(input(\"Insira o valor do salário: \"))\n",
    "reajuste = [1.20, 1.15, 1.10, 1.05]\n",
    "labels = ['salario antigo', 'percentual aplicado', 'valor do aumento', 'novo salario']\n",
    "x = 0\n",
    "\n",
    "if(salario <= 280):\n",
    "    y = 0\n",
    "elif(salario > 280 and salario <= 700):\n",
    "    y = 1\n",
    "elif(salario > 700 and salario <= 1500):\n",
    "    y = 2\n",
    "else:\n",
    "    y = 3\n",
    "    \n",
    "novo_salario = salario * reajuste[y]\n",
    "percentual = ((1 - reajuste[y])*100)*(-1)\n",
    "vlr_aumento = novo_salario - salario\n",
    "labels_v = [salario, percentual, vlr_aumento, novo_salario]\n",
    "\n",
    "while x <= 3:\n",
    "    if x == 0:\n",
    "        print('\\n')\n",
    "        print(f'{labels[x]} = %.2f' %(labels_v[x]))\n",
    "        print(30*'-')\n",
    "    else:\n",
    "        print(f'{labels[x]} = %.2f' %(labels_v[x]))\n",
    "        print(30*'-')\n",
    "    x += 1\n",
    "salario = novo_salario"
   ]
  },
  {
   "cell_type": "markdown",
   "metadata": {},
   "source": [
    "6. Faça um Programa que leia um número e exiba o dia correspondente da semana.\n",
    "(1-Domingo, 2- Segunda, etc.), se digitar outro valor deve aparecer valor inválido."
   ]
  },
  {
   "cell_type": "code",
   "execution_count": 15,
   "metadata": {},
   "outputs": [
    {
     "name": "stdout",
     "output_type": "stream",
     "text": [
      "Insira o dia da semana: 1\n",
      "O dia da semana digitado equivale à: Domingo\n"
     ]
    }
   ],
   "source": [
    "dia = int(input(\"Insira o dia da semana: \"))\n",
    "dic_semana = {1:'Domingo', 2:'Segunda-feira', 3:'Terça-feira', 4:'Quarta-feira', 5:'Quinta-feira', \n",
    "              6:'Sexta-feira', 7:'Sábado'}\n",
    "if dia > 7:\n",
    "    print(\"Intervalo inválido\")\n",
    "else:\n",
    "    print(\"O dia da semana digitado equivale à: {}\".format(dic_semana[dia]))"
   ]
  },
  {
   "cell_type": "markdown",
   "metadata": {},
   "source": [
    "7. Faça um programa que lê as duas notas parciais obtidas por um aluno numa\n",
    "disciplina ao longo de um semestre, e calcule a sua média. A atribuição de conceitos\n",
    "obedece à tabela abaixo:\n",
    "Média de Aproveitamento Conceito\n",
    "Entre 9.0 e 10.0 A\n",
    "Entre 7.5 e 9.0 B\n",
    "Entre 6.0 e 7.5 C\n",
    "Entre 4.0 e 6.0 D\n",
    "Entre 4.0 e zero E\n",
    "O algoritmo deve mostrar na tela as notas, a média, o conceito correspondente e a\n",
    "mensagem “APROVADO” se o conceito for A, B ou C ou “REPROVADO” se o conceito\n",
    "for D ou E."
   ]
  },
  {
   "cell_type": "code",
   "execution_count": 16,
   "metadata": {},
   "outputs": [
    {
     "name": "stdout",
     "output_type": "stream",
     "text": [
      "Insira a nota 1: 9\n",
      "Insira a nota 2: 6\n",
      "------------------------------\n",
      "Nota 1: 9.0 \n",
      "Nota 2: 6.0 \n",
      "Média: 7.5 \n",
      "Conceito: Entre 7.5 e 9.0 \n",
      "Resultado: B \n",
      "Mensagem: APROVADO\n"
     ]
    }
   ],
   "source": [
    "n1 = float(input(\"Insira a nota 1: \"))\n",
    "n2 = float(input(\"Insira a nota 2: \"))\n",
    "notas = [n1, n2]\n",
    "media = sum(notas)/len(notas)\n",
    "conceito = {'Entre 9.0 e 10.0':'A', 'Entre 7.5 e 9.0':'B','Entre 6.0 e 7.5':'C',\n",
    "            'Entre 4.0 e 6.0':'D','Entre 4.0 e zero':'E' }\n",
    "status = list(conceito.values())\n",
    "conceito_usado = list(conceito.keys())\n",
    "\n",
    "if(media < 0 or media > 10):\n",
    "    print(\"Média inválida\")\n",
    "    status = ['Inválido']\n",
    "    conceito_usado = ['Inválido']\n",
    "    y = 0\n",
    "elif(media >= 0 and media < 4):\n",
    "    y = 4\n",
    "elif(media >= 4 and media < 6):\n",
    "    y = 3\n",
    "elif(media >= 6 and media < 7.5):\n",
    "    y = 2\n",
    "elif(media >= 7.5 and media < 9):\n",
    "    y = 1\n",
    "else:\n",
    "    y = 0\n",
    "    \n",
    "conceito_fim = status[y]\n",
    "desc = conceito_usado[y]\n",
    "\n",
    "if(conceito_fim == 'Inválido'):\n",
    "    mensagem = 'Média inválida!'\n",
    "elif(conceito_fim == 'A' or conceito_fim == 'B' or conceito_fim == 'C'):\n",
    "    mensagem = \"APROVADO\"\n",
    "else:\n",
    "    mensagem = \"REPROVADO\"\n",
    "    \n",
    "print(30*'-')   \n",
    "print(f\"Nota 1: {n1} \\nNota 2: {n2} \\nMédia: {media} \\nConceito: {desc} \\nResultado: {conceito_fim} \\nMensagem: {mensagem}\")"
   ]
  },
  {
   "cell_type": "markdown",
   "metadata": {},
   "source": [
    "8. Faça um Programa que peça os 3 lados de um triângulo. O programa deverá\n",
    "informar se os valores podem ser um triângulo. Indique, caso os lados formem um\n",
    "triângulo, se o mesmo é: equilátero, isósceles ou escaleno.\n",
    "Dicas:\n",
    "- Três lados formam um triângulo quando a soma de quaisquer dois lados for maior\n",
    "que o terceiro;\n",
    "- Triângulo Equilátero: três lados iguais;\n",
    "- Triângulo Isósceles: quaisquer dois lados iguais;\n",
    "- Triângulo Escaleno: três lados diferentes;"
   ]
  },
  {
   "cell_type": "code",
   "execution_count": 17,
   "metadata": {},
   "outputs": [
    {
     "name": "stdout",
     "output_type": "stream",
     "text": [
      "Insira o lado 1 da figura: 4\n",
      "Insira o lado 2 da figura: 2\n",
      "Insira o lado 3 da figura: 8\n",
      "É um triângulo do tipo Escaleno\n"
     ]
    }
   ],
   "source": [
    "def soma(x,y):\n",
    "    return x + y\n",
    "\n",
    "l1 = float(input(\"Insira o lado 1 da figura: \"))\n",
    "l2 = float(input(\"Insira o lado 2 da figura: \"))\n",
    "l3 = float(input(\"Insira o lado 3 da figura: \"))\n",
    "tipo = ['Equilátero', 'Isósceles', 'Escaleno']\n",
    "\n",
    "if(soma(l1,l2) > l3 or soma(l1,l3) > l2 or soma(l2,l3) > l1):\n",
    "    if(l1 == l2 and l1 == l3 and l2 == l3):\n",
    "        print(\"É um triângulo do tipo %s\" %(tipo[0]))\n",
    "    elif(l1 == l2 or l1 == l3 or l2 == l3):\n",
    "        print(\"É um triângulo do tipo %s\" %(tipo[1]))\n",
    "    else:\n",
    "        print(\"É um triângulo do tipo %s\" %(tipo[2]))\n",
    "else:\n",
    "    print(\"Não é um triângulo!\")"
   ]
  },
  {
   "cell_type": "markdown",
   "metadata": {},
   "source": [
    "9. Faça um programa que calcule as raízes de uma equação do segundo grau, na\n",
    "forma ax2 + bx + c. O programa deverá pedir os valores de a, b e c e fazer as\n",
    "consistências, informando ao usuário nas seguintes situações:\n",
    "- Se o usuário informar o valor de A igual a zero, a equação não é do segundo grau e\n",
    "o programa não deve fazer pedir os demais valores, sendo encerrado;\n",
    "- Se o delta calculado for negativo, a equação não possui raizes reais. Informe ao\n",
    "usuário e encerre o programa;\n",
    "- Se o delta calculado for igual a zero a equação possui apenas uma raiz real;\n",
    "informe-a ao usuário;\n",
    "- Se o delta for positivo, a equação possui duas raiz reais; informe-as ao usuário;"
   ]
  },
  {
   "cell_type": "code",
   "execution_count": 18,
   "metadata": {},
   "outputs": [
    {
     "name": "stdout",
     "output_type": "stream",
     "text": [
      "Insira o valor de 'a': 2\n",
      "Insira o valor de 'b': -4\n",
      "Insira o valor de 'c': 1\n",
      "As raízes da função são: [2.0, 0.0]\n"
     ]
    }
   ],
   "source": [
    "def delta(a,b,c):\n",
    "    delta_v = (b ** 2 - 4 * a * c)\n",
    "    return delta_v\n",
    "\n",
    "def raiz(a,b,vl_delta):\n",
    "    if(vl_delta == 0):\n",
    "        vlr_raiz = (-b / 2 * a)\n",
    "        return vlr_raiz\n",
    "    else:\n",
    "        x1 = ((-b + vl_delta ** 1/2) / (2 * a))\n",
    "        x2 = ((-b - vl_delta ** 1/2) / (2 * a))\n",
    "        return [x1, x2]\n",
    "\n",
    "a = 0\n",
    "\n",
    "while (a == 0):\n",
    "    a = float(input(\"Insira o valor de 'a': \"))\n",
    "    if(a == 0):\n",
    "        print(\"O valor de 'a' não deve ser zero\")\n",
    "        break\n",
    "    else:\n",
    "        b = float(input(\"Insira o valor de 'b': \"))\n",
    "        c = float(input(\"Insira o valor de 'c': \"))\n",
    "        vlr_delta = delta(a,b,c)\n",
    "        if(vlr_delta < 0):\n",
    "            print(\"A equação não possui raízes reais.\")\n",
    "            break\n",
    "        elif(vlr_delta == 0):\n",
    "            raiz_func = raiz(a,b,vlr_delta)\n",
    "            print(\"A raíz da função é: %s\" %(raiz_func))\n",
    "        else:\n",
    "            raiz_funcao = raiz(a,b,vlr_delta)\n",
    "            print(\"As raízes da função são: %s\" %(raiz_funcao[:]))"
   ]
  },
  {
   "cell_type": "markdown",
   "metadata": {},
   "source": [
    "10. Faça um Programa para um caixa eletrônico. O programa deverá perguntar ao\n",
    "usuário a valor do saque e depois informar quantas notas de cada valor serão\n",
    "fornecidas. As notas disponíveis serão as de 1, 5, 10, 50 e 100 reais. O valor mínimo é\n",
    "de 10 reais e o máximo de 600 reais. O programa não deve se preocupar com a\n",
    "quantidade de notas existentes na máquina.\n",
    "- Exemplo 1: Para sacar a quantia de 256 reais, o programa fornece duas notas de\n",
    "100, uma nota de 50, uma nota de 5 e uma nota de 1;\n",
    "- Exemplo 2: Para sacar a quantia de 399 reais, o programa fornece três notas de\n",
    "100, uma nota de 50, quatro notas de 10, uma nota de 5 e quatro notas de 1."
   ]
  },
  {
   "cell_type": "code",
   "execution_count": 19,
   "metadata": {},
   "outputs": [
    {
     "name": "stdout",
     "output_type": "stream",
     "text": [
      "Insira o valor do saque: 399\n",
      "Para sacar: R$ 399.0 você utilizará: \n",
      "3 notas de R$ 100.00 \n",
      "1 notas de R$ 50.00 \n",
      "4 notas de R$ 10.00 \n",
      "1 notas de R$ 5.00 \n",
      "4 notas de R$ 1.00\n"
     ]
    }
   ],
   "source": [
    "saque = float(input(\"Insira o valor do saque: \"))\n",
    "saque_entrada = saque\n",
    "\n",
    "if(saque < 10 or saque > 600):\n",
    "    print(\"Valor de saque não permitido!\")\n",
    "else:\n",
    "    while(saque != 0):\n",
    "        notas_de_100 = int(saque/100)\n",
    "        saque -= notas_de_100 * 100\n",
    "        if(saque > 0):\n",
    "            notas_de_50 = int(saque/50)\n",
    "            saque -= notas_de_50 * 50\n",
    "            if(saque > 0):\n",
    "                notas_de_10 = int(saque/10)\n",
    "                saque -= notas_de_10 * 10\n",
    "                if(saque > 0):\n",
    "                    notas_de_5 = int(saque/5)\n",
    "                    saque -= notas_de_5 * 5\n",
    "                    if(saque > 0):\n",
    "                        notas_de_1 = int(saque/1)\n",
    "                        saque -= notas_de_1 * 1\n",
    "    else:\n",
    "        print(f'Para sacar: R$ {saque_entrada} você utilizará: \\n'\n",
    "             + f'{notas_de_100} notas de R$ 100.00 \\n'\n",
    "             + f'{notas_de_50} notas de R$ 50.00 \\n'\n",
    "             + f'{notas_de_10} notas de R$ 10.00 \\n'\n",
    "             + f'{notas_de_5} notas de R$ 5.00 \\n'\n",
    "             + f'{notas_de_1} notas de R$ 1.00')"
   ]
  },
  {
   "cell_type": "markdown",
   "metadata": {},
   "source": [
    "11. Faça um programa que faça 5 perguntas para uma pessoa sobre um crime. As\n",
    "perguntas são:\n",
    "\"Telefonou para a vítima?\"\n",
    "\"Esteve no local do crime?\"\n",
    "\"Mora perto da vítima?\"\n",
    "\"Devia para a vítima?\"\n",
    "\"Já trabalhou com a vítima?\"\n",
    "O programa deve no final emitir uma classificação sobre a participação da pessoa no\n",
    "crime. Se a pessoa responder positivamente a 2 questões ela deve ser classificada\n",
    "como \"Suspeita\", entre 3 e 4 como \"Cúmplice\" e 5 como \"Assassino\". Caso contrário,\n",
    "ele será classificado como \"Inocente\"."
   ]
  },
  {
   "cell_type": "code",
   "execution_count": 21,
   "metadata": {},
   "outputs": [
    {
     "name": "stdout",
     "output_type": "stream",
     "text": [
      "Telefonou para a vítima? nao\n",
      "Esteve no local do crime? nao\n",
      "Mora perto da vítima? sim\n",
      "Devia para a vítima? nao\n",
      "Já trabalhou com a vítima? sim\n",
      "Classificação: Suspeita\n"
     ]
    }
   ],
   "source": [
    "p1 = input(\"Telefonou para a vítima? \")\n",
    "p2 = input(\"Esteve no local do crime? \")\n",
    "p3 = input(\"Mora perto da vítima? \")\n",
    "p4 = input(\"Devia para a vítima? \")\n",
    "p5 = input(\"Já trabalhou com a vítima? \")\n",
    "\n",
    "resp = [p1.upper(), p2.upper(), p3.upper(), p4.upper(), p5.upper()]\n",
    "classificacao = ['Inocente', 'Suspeita', 'Cúmplice', 'Assassino']\n",
    "cont = 0\n",
    "\n",
    "for resposta in resp:\n",
    "    if(resposta == 'SIM'):\n",
    "        cont += 1\n",
    "\n",
    "if(cont < 2):\n",
    "    print('Classificação: %s' %(classificacao[0]))\n",
    "elif(cont >= 2 and cont < 3):\n",
    "    print('Classificação: %s' %(classificacao[1]))\n",
    "elif(cont >= 3 and cont <= 4):\n",
    "    print('Classificação: %s' %(classificacao[2]))\n",
    "else:\n",
    "    print('Classificação: %s' %(classificacao[3]))"
   ]
  },
  {
   "cell_type": "markdown",
   "metadata": {},
   "source": [
    "12. Uma fruteira está vendendo frutas com a seguinte tabela de preços:\n",
    "Até 5 Kg Acima de 5 Kg\n",
    "Morango R$ 2,50 por Kg R$ 2,20 por Kg\n",
    "Maçã R$ 1,80 por Kg R$ 1,50 por Kg\n",
    "Se o cliente comprar mais de 8 Kg em frutas ou o valor total da compra ultrapassar\n",
    "R$ 25,00, receberá ainda um desconto de 10% sobre este total. Escreva um\n",
    "algoritmo para ler a quantidade (em Kg) de morangos e a quantidade (em Kg) de\n",
    "maças adquiridas e escreva o valor a ser pago pelo cliente."
   ]
  },
  {
   "cell_type": "code",
   "execution_count": 23,
   "metadata": {},
   "outputs": [
    {
     "name": "stdout",
     "output_type": "stream",
     "text": [
      "Quantos kilos de morango você deseja adquirir? 10\n",
      "Quantos kilos de maçã você deseja adquirir? 12\n",
      "************************************************************\n",
      "Quantidade de Morangos - KG: 10.0 \t Preco: R$ 22.0 \n",
      "Quantidade de Maçãs - KG: 12.0 \t\t Preco: R$ 18.0 \n",
      "Desconto: 10 % \n",
      "Preço final da compra: R$ 36.00\n"
     ]
    }
   ],
   "source": [
    "def preco_morango(kilos):\n",
    "    if(kilos < 5):\n",
    "        return kilos * 2.50\n",
    "    else:\n",
    "        return kilos * 2.20\n",
    "\n",
    "def preco_maca(kilos):\n",
    "    if(kilos < 5):\n",
    "        return kilos * 1.80\n",
    "    else:\n",
    "        return kilos * 1.50\n",
    "\n",
    "def soma(morango, maca):\n",
    "    return morango + maca\n",
    "\n",
    "morango = float(input(\"Quantos kilos de morango você deseja adquirir? \"))\n",
    "maca = float(input(\"Quantos kilos de maçã você deseja adquirir? \"))\n",
    "\n",
    "preco_mor = preco_morango(morango)\n",
    "preco_mac = preco_maca(maca)\n",
    "\n",
    "if(soma(morango, maca) >= 8 or soma(preco_mor, preco_mac) >= 25):\n",
    "    desconto = 0.10\n",
    "    preco_fim = soma(preco_mor, preco_mac) * (1 - desconto)\n",
    "else:\n",
    "    desconto = 0.00\n",
    "    preco_fim = soma(preco_mor, preco_mac)\n",
    "\n",
    "print(60 * '*' + '\\n'\n",
    "     + f'Quantidade de Morangos - KG: {morango} \\t Preco: R$ {preco_mor} \\n'\n",
    "     + f'Quantidade de Maçãs - KG: {maca} \\t\\t Preco: R$ {preco_mac} \\n'\n",
    "     + 'Desconto: %d %% \\n' %(desconto*100)\n",
    "     + 'Preço final da compra: R$ %.2f'%(preco_fim))"
   ]
  },
  {
   "cell_type": "markdown",
   "metadata": {},
   "source": [
    "13. Faça um programa que peça uma nota, entre zero e dez. Mostre uma mensagem\n",
    "caso o valor seja inválido e continue pedindo até que o usuário informe um valor\n",
    "válido."
   ]
  },
  {
   "cell_type": "code",
   "execution_count": 25,
   "metadata": {},
   "outputs": [
    {
     "name": "stdout",
     "output_type": "stream",
     "text": [
      "Insira uma nota entre 0 e 10: 11\n",
      "Valor inválido!\n",
      "Insira uma nota entre 0 e 10: 12\n",
      "Valor inválido!\n",
      "Insira uma nota entre 0 e 10: 42311\n",
      "Valor inválido!\n",
      "Insira uma nota entre 0 e 10: 12412\n",
      "Valor inválido!\n",
      "Insira uma nota entre 0 e 10: -1\n",
      "Valor inválido!\n",
      "Insira uma nota entre 0 e 10: 5\n",
      "Válido!\n"
     ]
    }
   ],
   "source": [
    "while(True):\n",
    "    a = float(input(\"Insira uma nota entre 0 e 10: \"))\n",
    "    if(a < 0 or a > 10):\n",
    "        print(\"Valor inválido!\")\n",
    "        continue\n",
    "    else:\n",
    "        print(\"Válido!\")\n",
    "        break"
   ]
  },
  {
   "cell_type": "markdown",
   "metadata": {},
   "source": [
    "13. Faça um programa que leia e valide as seguintes informações:\n",
    "Nome: maior que 3 caracteres;\n",
    "Idade: entre 0 e 150;\n",
    "Salário: maior que zero;\n",
    "Sexo: 'f' ou 'm';\n",
    "Estado Civil: 's', 'c', 'v', 'd';"
   ]
  },
  {
   "cell_type": "code",
   "execution_count": 26,
   "metadata": {},
   "outputs": [
    {
     "name": "stdout",
     "output_type": "stream",
     "text": [
      "Insira um nome com mais de 3 caracteres: as\n",
      "Insira um nome maior do que 3 caracteres!\n",
      "Insira um nome com mais de 3 caracteres: ana\n",
      "Nome: ana - é válido\n",
      "Insira uma idade entre 0 e 150 anos: -1\n",
      "Insira uma idade entre 0 e 150!\n",
      "Insira uma idade entre 0 e 150 anos: 12\n",
      "Idade: 12 - é válida\n",
      "Insira o valor de um salário: -2\n",
      "Insira um salário maior que zero!\n",
      "Insira o valor de um salário: 200\n",
      "Salário: 200.0 - é válido\n",
      "Insira um sexo do tipo 'm' ou 'f': a\n",
      "Insira apenas 'm' ou 'f'!\n",
      "Insira um sexo do tipo 'm' ou 'f': f\n",
      "Sexo: f - é válido\n",
      "Insira um estado civil do tipo 's', 'c', 'v', ou 'd': s\n",
      "Estado Civil: s - é válido\n"
     ]
    }
   ],
   "source": [
    "nome = \"\"\n",
    "idade = -1\n",
    "salario = -1\n",
    "sexo = \"a\"\n",
    "est_civil = \"\"\n",
    "\n",
    "while(len(nome) < 3):\n",
    "    nome = input(\"Insira um nome com mais de 3 caracteres: \")\n",
    "    if(len(nome) < 3):\n",
    "        print(\"Insira um nome maior do que 3 caracteres!\")\n",
    "        continue\n",
    "    else:\n",
    "        print(f'Nome: {nome} - é válido')\n",
    "\n",
    "while(idade < 0 or idade > 150):\n",
    "    idade = int(input(\"Insira uma idade entre 0 e 150 anos: \"))\n",
    "    if(idade < 0 or idade > 150):\n",
    "        print(\"Insira uma idade entre 0 e 150!\")\n",
    "        continue\n",
    "    else:\n",
    "        print(f'Idade: {idade} - é válida')\n",
    "\n",
    "while(salario < 0):\n",
    "    salario = float(input('Insira o valor de um salário: '))\n",
    "    if(salario < 0):\n",
    "        print(\"Insira um salário maior que zero!\")\n",
    "        continue\n",
    "    else:\n",
    "        print(f'Salário: {salario} - é válido')\n",
    "        \n",
    "while(sexo != 'm' and sexo != 'f'):\n",
    "    sexo = input(\"Insira um sexo do tipo 'm' ou 'f': \")\n",
    "    if(sexo != 'm' and sexo != 'f'):\n",
    "        print(\"Insira apenas 'm' ou 'f'!\")\n",
    "        continue\n",
    "    else:\n",
    "        print(f'Sexo: {sexo} - é válido')\n",
    "\n",
    "while(est_civil != 's' and est_civil != 'c' and est_civil != 'v' and est_civil != 'd'):\n",
    "    est_civil = input(\"Insira um estado civil do tipo 's', 'c', 'v', ou 'd': \")\n",
    "    if(est_civil != 's' and est_civil != 'c' and est_civil != 'v' and est_civil != 'd'):\n",
    "        print(\"Insira apenas 's', 'c', 'v' ou 'd'!\")\n",
    "        continue\n",
    "    else:\n",
    "        print(f'Estado Civil: {est_civil} - é válido')"
   ]
  },
  {
   "cell_type": "markdown",
   "metadata": {},
   "source": [
    "14. Faça um programa que leia 5 números e informe o maior número."
   ]
  },
  {
   "cell_type": "code",
   "execution_count": 27,
   "metadata": {},
   "outputs": [
    {
     "name": "stdout",
     "output_type": "stream",
     "text": [
      "Insira um número: 2\n",
      "Insira um número: 1\n",
      "Insira um número: 33\n",
      "Insira um número: 5\n",
      "Insira um número: -12\n",
      "O maior número dessa lista é: 33.0\n"
     ]
    }
   ],
   "source": [
    "x = 0\n",
    "lista = []\n",
    "\n",
    "while(x < 5):\n",
    "    n = float(input(\"Insira um número: \"))\n",
    "    lista.append(n)\n",
    "    x += 1\n",
    "\n",
    "print(\"O maior número dessa lista é: {}\".format(max(lista)))"
   ]
  },
  {
   "cell_type": "markdown",
   "metadata": {},
   "source": [
    "15. Faça um programa que leia 5 números e informe a soma e a média dos números."
   ]
  },
  {
   "cell_type": "code",
   "execution_count": 28,
   "metadata": {},
   "outputs": [
    {
     "name": "stdout",
     "output_type": "stream",
     "text": [
      "Insira um número: 2\n",
      "Insira um número: 4\n",
      "Insira um número: 56\n",
      "Insira um número: 12\n",
      "Insira um número: -71\n",
      "A soma dos números dessa lista é: 3.0 \n",
      "A média dos números dessa lista é: 0.6\n"
     ]
    }
   ],
   "source": [
    "x = 0\n",
    "lista2 = []\n",
    "\n",
    "while(x < 5):\n",
    "    n1 = float(input(\"Insira um número: \"))\n",
    "    lista2.append(n1)\n",
    "    x += 1\n",
    "    \n",
    "print(\"A soma dos números dessa lista é: {} \\n\". format(sum(lista2))\n",
    "     + \"A média dos números dessa lista é: {}\". format((sum(lista2)/len(lista2))))"
   ]
  },
  {
   "cell_type": "markdown",
   "metadata": {},
   "source": [
    "16. Faça um programa que imprima na tela apenas os números ímpares entre 1 e 50."
   ]
  },
  {
   "cell_type": "code",
   "execution_count": 29,
   "metadata": {},
   "outputs": [
    {
     "name": "stdout",
     "output_type": "stream",
     "text": [
      "1\n",
      "3\n",
      "5\n",
      "7\n",
      "9\n",
      "11\n",
      "13\n",
      "15\n",
      "17\n",
      "19\n",
      "21\n",
      "23\n",
      "25\n",
      "27\n",
      "29\n",
      "31\n",
      "33\n",
      "35\n",
      "37\n",
      "39\n",
      "41\n",
      "43\n",
      "45\n",
      "47\n",
      "49\n"
     ]
    }
   ],
   "source": [
    "num = 0\n",
    "while(num <= 50):\n",
    "    if(num % 2 == 1):\n",
    "        print(num)\n",
    "    num += 1"
   ]
  },
  {
   "cell_type": "markdown",
   "metadata": {},
   "source": [
    "17. Desenvolva um gerador de tabuada, capaz de gerar a tabuada de qualquer\n",
    "número inteiro entre 1 a 10. O usuário deve informar de qual numero ele deseja ver\n",
    "a tabuada. A saída deve ser conforme o exemplo abaixo:\n",
    "Tabuada de 5:\n",
    "5 X 1 = 5\n",
    "5 X 2 = 10\n",
    "...\n",
    "5 X 10 = 50"
   ]
  },
  {
   "cell_type": "code",
   "execution_count": 30,
   "metadata": {},
   "outputs": [
    {
     "name": "stdout",
     "output_type": "stream",
     "text": [
      "Insira um número: 7\n",
      "Tabuada do 7:\n",
      "7 X 1 = 7\n",
      "7 X 2 = 14\n",
      "7 X 3 = 21\n",
      "7 X 4 = 28\n",
      "7 X 5 = 35\n",
      "7 X 6 = 42\n",
      "7 X 7 = 49\n",
      "7 X 8 = 56\n",
      "7 X 9 = 63\n",
      "7 X 10 = 70\n"
     ]
    }
   ],
   "source": [
    "vlr = int(input(\"Insira um número: \"))\n",
    "tabu = 1\n",
    "print(f'Tabuada do {vlr}:')\n",
    "while(tabu <= 10):\n",
    "    print('{} X {} = {}'.format(vlr, tabu, (vlr * tabu)))\n",
    "    tabu += 1"
   ]
  },
  {
   "cell_type": "markdown",
   "metadata": {},
   "source": [
    "18. A série de Fibonacci é formada pela seqüência 1,1,2,3,5,8,13,21,34,55,... Faça um\n",
    "programa capaz de gerar a série até o n−ésimo termo."
   ]
  },
  {
   "cell_type": "code",
   "execution_count": 31,
   "metadata": {},
   "outputs": [
    {
     "name": "stdout",
     "output_type": "stream",
     "text": [
      "Indique o n-ésimo termo: 10\n",
      "1\n",
      "1\n",
      "2\n",
      "3\n",
      "5\n",
      "8\n",
      "13\n",
      "21\n",
      "34\n",
      "55\n"
     ]
    }
   ],
   "source": [
    "parada = int(input(\"Indique o n-ésimo termo: \"))\n",
    "x = 0\n",
    "fibonacci = []\n",
    "\n",
    "while( x <= (parada - 1)):\n",
    "    if(x == 0 or x == 1):\n",
    "        fibonacci.append(1)\n",
    "        print(fibonacci[x])\n",
    "    else:\n",
    "        fib = fibonacci[x - 1] + fibonacci[x - 2]\n",
    "        fibonacci.append(fib)\n",
    "        print(fibonacci[x])\n",
    "    x += 1"
   ]
  },
  {
   "cell_type": "markdown",
   "metadata": {},
   "source": [
    "19. Faça um programa que calcule o fatorial de um número inteiro fornecido pelo\n",
    "usuário. Ex.: 5!=5.4.3.2.1=120"
   ]
  },
  {
   "cell_type": "code",
   "execution_count": 32,
   "metadata": {},
   "outputs": [
    {
     "name": "stdout",
     "output_type": "stream",
     "text": [
      "Insira um número: 5\n",
      "O fatorial de 5 é: 120\n"
     ]
    }
   ],
   "source": [
    "fat_num = int(input(\"Insira um número: \"))\n",
    "fat_numero = fat_num\n",
    "numeros = []\n",
    "fatorial = 1\n",
    "\n",
    "while(fat_num > 0):\n",
    "    numeros.append(fat_num)\n",
    "    fat_num -= 1\n",
    "\n",
    "for n in numeros:\n",
    "    fatorial *= n\n",
    "\n",
    "print(f'O fatorial de {fat_numero} é: {fatorial}')"
   ]
  },
  {
   "cell_type": "markdown",
   "metadata": {},
   "source": [
    "20. O Sr. Manoel Joaquim possui uma grande loja de artigos de R$ 1,99, com cerca\n",
    "de 10 caixas. Para agilizar o cálculo de quanto cada cliente deve pagar ele\n",
    "desenvolveu um tabela que contém o número de itens que o cliente comprou e ao\n",
    "lado o valor da conta. Desta forma a atendente do caixa precisa apenas contar\n",
    "quantos itens o cliente está levando e olhar na tabela de preços. Você foi contratado\n",
    "para desenvolver o programa que monta esta tabela de preços, que conterá os\n",
    "preços de 1 até 50 produtos, conforme o exemplo abaixo:\n",
    "Lojas Quase Dois - Tabela de preços\n",
    "1 - R$ 1.99\n",
    "2 - R$ 3.98\n",
    "...\n",
    "50 - R$ 99.50"
   ]
  },
  {
   "cell_type": "code",
   "execution_count": 35,
   "metadata": {},
   "outputs": [
    {
     "name": "stdout",
     "output_type": "stream",
     "text": [
      "-----------------------------------\n",
      "QUANTIDADE\t|\tPRECO\n",
      "-----------------------------------\n",
      "1\t\t|\t1.99\n",
      "-----------------------------------\n",
      "2\t\t|\t3.98\n",
      "-----------------------------------\n",
      "3\t\t|\t5.97\n",
      "-----------------------------------\n",
      "4\t\t|\t7.96\n",
      "-----------------------------------\n",
      "5\t\t|\t9.95\n",
      "-----------------------------------\n",
      "6\t\t|\t11.94\n",
      "-----------------------------------\n",
      "7\t\t|\t13.93\n",
      "-----------------------------------\n",
      "8\t\t|\t15.92\n",
      "-----------------------------------\n",
      "9\t\t|\t17.91\n",
      "-----------------------------------\n",
      "10\t\t|\t19.9\n",
      "-----------------------------------\n",
      "11\t\t|\t21.89\n",
      "-----------------------------------\n",
      "12\t\t|\t23.88\n",
      "-----------------------------------\n",
      "13\t\t|\t25.87\n",
      "-----------------------------------\n",
      "14\t\t|\t27.86\n",
      "-----------------------------------\n",
      "15\t\t|\t29.85\n",
      "-----------------------------------\n",
      "16\t\t|\t31.84\n",
      "-----------------------------------\n",
      "17\t\t|\t33.83\n",
      "-----------------------------------\n",
      "18\t\t|\t35.82\n",
      "-----------------------------------\n",
      "19\t\t|\t37.81\n",
      "-----------------------------------\n",
      "20\t\t|\t39.8\n",
      "-----------------------------------\n",
      "21\t\t|\t41.79\n",
      "-----------------------------------\n",
      "22\t\t|\t43.78\n",
      "-----------------------------------\n",
      "23\t\t|\t45.77\n",
      "-----------------------------------\n",
      "24\t\t|\t47.76\n",
      "-----------------------------------\n",
      "25\t\t|\t49.75\n",
      "-----------------------------------\n",
      "26\t\t|\t51.74\n",
      "-----------------------------------\n",
      "27\t\t|\t53.73\n",
      "-----------------------------------\n",
      "28\t\t|\t55.72\n",
      "-----------------------------------\n",
      "29\t\t|\t57.71\n",
      "-----------------------------------\n",
      "30\t\t|\t59.7\n",
      "-----------------------------------\n",
      "31\t\t|\t61.69\n",
      "-----------------------------------\n",
      "32\t\t|\t63.68\n",
      "-----------------------------------\n",
      "33\t\t|\t65.67\n",
      "-----------------------------------\n",
      "34\t\t|\t67.66\n",
      "-----------------------------------\n",
      "35\t\t|\t69.65\n",
      "-----------------------------------\n",
      "36\t\t|\t71.64\n",
      "-----------------------------------\n",
      "37\t\t|\t73.63\n",
      "-----------------------------------\n",
      "38\t\t|\t75.62\n",
      "-----------------------------------\n",
      "39\t\t|\t77.61\n",
      "-----------------------------------\n",
      "40\t\t|\t79.6\n",
      "-----------------------------------\n",
      "41\t\t|\t81.59\n",
      "-----------------------------------\n",
      "42\t\t|\t83.58\n",
      "-----------------------------------\n",
      "43\t\t|\t85.57\n",
      "-----------------------------------\n",
      "44\t\t|\t87.56\n",
      "-----------------------------------\n",
      "45\t\t|\t89.55\n",
      "-----------------------------------\n",
      "46\t\t|\t91.54\n",
      "-----------------------------------\n",
      "47\t\t|\t93.53\n",
      "-----------------------------------\n",
      "48\t\t|\t95.52\n",
      "-----------------------------------\n",
      "49\t\t|\t97.51\n",
      "-----------------------------------\n",
      "50\t\t|\t99.5\n",
      "-----------------------------------\n"
     ]
    }
   ],
   "source": [
    "itens = list(range(1,51))\n",
    "preco = []\n",
    "x = 0\n",
    "\n",
    "for item in itens:\n",
    "    vlr = item * 1.99\n",
    "    preco.append(vlr)\n",
    "\n",
    "print(35 * '-')\n",
    "print('QUANTIDADE' + '\\t' + '|' + '\\t' + 'PRECO')\n",
    "print(35 * '-')\n",
    "\n",
    "while(x < len(itens) or x < len(preco)):\n",
    "    print( '{}'.format(itens[x]) + (2 * '\\t') + '|' + '\\t' + '{}'.format(preco[x]))\n",
    "    print(35 * '-')\n",
    "    x += 1"
   ]
  },
  {
   "cell_type": "markdown",
   "metadata": {},
   "source": [
    "21. O Sr. Manoel Joaquim acaba de adquirir uma panificadora e pretende implantar\n",
    "a metodologia da tabelinha, que já é um sucesso na sua loja de 1,99. Você foi\n",
    "contratado para desenvolver o programa que monta a tabela de preços de pães, de\n",
    "1 até 50 pães, a partir do preço do pão informado pelo usuário, conforme o exemplo\n",
    "abaixo:\n",
    "Preço do pão: R$ 0.18\n",
    "Panificadora Pão de Ontem - Tabela de preços\n",
    "1 - R$ 0.18\n",
    "2 - R$ 0.36\n",
    "...\n",
    "50 - R$ 9.00"
   ]
  },
  {
   "cell_type": "code",
   "execution_count": 38,
   "metadata": {},
   "outputs": [
    {
     "name": "stdout",
     "output_type": "stream",
     "text": [
      "Insira o preço do pão: 0.18\n",
      "\n",
      "-----------------------------------\n",
      "QUANTIDADE\t|\tPRECO\n",
      "-----------------------------------\n",
      "1\t\t|\t0.18\n",
      "-----------------------------------\n",
      "2\t\t|\t0.36\n",
      "-----------------------------------\n",
      "3\t\t|\t0.54\n",
      "-----------------------------------\n",
      "4\t\t|\t0.72\n",
      "-----------------------------------\n",
      "5\t\t|\t0.90\n",
      "-----------------------------------\n",
      "6\t\t|\t1.08\n",
      "-----------------------------------\n",
      "7\t\t|\t1.26\n",
      "-----------------------------------\n",
      "8\t\t|\t1.44\n",
      "-----------------------------------\n",
      "9\t\t|\t1.62\n",
      "-----------------------------------\n",
      "10\t\t|\t1.80\n",
      "-----------------------------------\n",
      "11\t\t|\t1.98\n",
      "-----------------------------------\n",
      "12\t\t|\t2.16\n",
      "-----------------------------------\n",
      "13\t\t|\t2.34\n",
      "-----------------------------------\n",
      "14\t\t|\t2.52\n",
      "-----------------------------------\n",
      "15\t\t|\t2.70\n",
      "-----------------------------------\n",
      "16\t\t|\t2.88\n",
      "-----------------------------------\n",
      "17\t\t|\t3.06\n",
      "-----------------------------------\n",
      "18\t\t|\t3.24\n",
      "-----------------------------------\n",
      "19\t\t|\t3.42\n",
      "-----------------------------------\n",
      "20\t\t|\t3.60\n",
      "-----------------------------------\n",
      "21\t\t|\t3.78\n",
      "-----------------------------------\n",
      "22\t\t|\t3.96\n",
      "-----------------------------------\n",
      "23\t\t|\t4.14\n",
      "-----------------------------------\n",
      "24\t\t|\t4.32\n",
      "-----------------------------------\n",
      "25\t\t|\t4.50\n",
      "-----------------------------------\n",
      "26\t\t|\t4.68\n",
      "-----------------------------------\n",
      "27\t\t|\t4.86\n",
      "-----------------------------------\n",
      "28\t\t|\t5.04\n",
      "-----------------------------------\n",
      "29\t\t|\t5.22\n",
      "-----------------------------------\n",
      "30\t\t|\t5.40\n",
      "-----------------------------------\n",
      "31\t\t|\t5.58\n",
      "-----------------------------------\n",
      "32\t\t|\t5.76\n",
      "-----------------------------------\n",
      "33\t\t|\t5.94\n",
      "-----------------------------------\n",
      "34\t\t|\t6.12\n",
      "-----------------------------------\n",
      "35\t\t|\t6.30\n",
      "-----------------------------------\n",
      "36\t\t|\t6.48\n",
      "-----------------------------------\n",
      "37\t\t|\t6.66\n",
      "-----------------------------------\n",
      "38\t\t|\t6.84\n",
      "-----------------------------------\n",
      "39\t\t|\t7.02\n",
      "-----------------------------------\n",
      "40\t\t|\t7.20\n",
      "-----------------------------------\n",
      "41\t\t|\t7.38\n",
      "-----------------------------------\n",
      "42\t\t|\t7.56\n",
      "-----------------------------------\n",
      "43\t\t|\t7.74\n",
      "-----------------------------------\n",
      "44\t\t|\t7.92\n",
      "-----------------------------------\n",
      "45\t\t|\t8.10\n",
      "-----------------------------------\n",
      "46\t\t|\t8.28\n",
      "-----------------------------------\n",
      "47\t\t|\t8.46\n",
      "-----------------------------------\n",
      "48\t\t|\t8.64\n",
      "-----------------------------------\n",
      "49\t\t|\t8.82\n",
      "-----------------------------------\n",
      "50\t\t|\t9.00\n",
      "-----------------------------------\n"
     ]
    }
   ],
   "source": [
    "preco_informado = float(input(\"Insira o preço do pão: \"))\n",
    "\n",
    "itens = list(range(1,51))\n",
    "preco = []\n",
    "x = 0\n",
    "\n",
    "for item in itens:\n",
    "    vlr = item * preco_informado\n",
    "    preco.append(vlr)\n",
    "\n",
    "print('\\n' + 35 * '-')\n",
    "print('QUANTIDADE' + '\\t' + '|' + '\\t' + 'PRECO')\n",
    "print(35 * '-')\n",
    "\n",
    "while(x < len(itens) or x < len(preco)):\n",
    "    print( '{}'.format(itens[x]) + (2 * '\\t') + '|' + '\\t' + '%.2f'%(preco[x]))\n",
    "    print(35 * '-')\n",
    "    x += 1"
   ]
  },
  {
   "cell_type": "markdown",
   "metadata": {},
   "source": [
    "22. O Sr. Manoel Joaquim expandiu seus negócios para além dos negócios de 1,99 e\n",
    "agora possui uma loja de conveniências. Faça um programa que implemente uma\n",
    "caixa registradora rudimentar. O programa deverá receber um número\n",
    "desconhecido de valores referentes aos preços das mercadorias. Um valor zero deve\n",
    "ser informado pelo operador para indicar o final da compra. O programa deve então\n",
    "mostrar o total da compra e perguntar o valor em dinheiro que o cliente forneceu,\n",
    "para então calcular e mostrar o valor do troco. Após esta operação, o programa\n",
    "deverá voltar ao ponto inicial, para registrar a próxima compra. A saída deve ser\n",
    "conforme o exemplo abaixo:\n",
    "Lojas Tabajara\n",
    "Produto 1: R$ 2.20\n",
    "Produto 2: R$ 5.80\n",
    "Produto 3: R$ 0\n",
    "Total: R$ 9.00\n",
    "Dinheiro: R$ 20.00\n",
    "Troco: R$ 11.00\n",
    "..."
   ]
  },
  {
   "cell_type": "code",
   "execution_count": null,
   "metadata": {},
   "outputs": [
    {
     "name": "stdout",
     "output_type": "stream",
     "text": [
      "Preço do produto: 2.20\n",
      "Preço do produto: 5.80\n",
      "Preço do produto: 0\n",
      "--------------------\n",
      "Produto 1: R$ 2.2\n",
      "--------------------\n",
      "Produto 2: R$ 5.8\n",
      "--------------------\n",
      "TOTAL: R$ 8.0\n",
      "DINHEIRO: 20\n",
      "TROCO: R$12.0 \n",
      "\n"
     ]
    }
   ],
   "source": [
    "while(True):\n",
    "    valor = -1\n",
    "    precos = []\n",
    "    cont = 0\n",
    "    falta = 0\n",
    "    while(valor != 0):\n",
    "        valor = float(input(\"Preço do produto: \"))\n",
    "        precos.append(valor)\n",
    "    else:\n",
    "        quantidade = list(range(1, len(precos)))\n",
    "        total_compra = sum(precos)\n",
    "        while(cont <= (len(quantidade)- 1)):\n",
    "            print(20 * '-')\n",
    "            print('Produto {}: R$ {}'.format(quantidade[cont], precos[cont]))\n",
    "            cont += 1\n",
    "        print(20 * '-' + f'\\nTOTAL: R$ {total_compra}')\n",
    "        recebimento = float(input(\"DINHEIRO: \"))\n",
    "        if(recebimento < total_compra):\n",
    "            a_receber = total_compra - recebimento\n",
    "            while(falta < a_receber):\n",
    "                falta = float(input(f\"Falta receber R$ {a_receber}, insira esse valor: \"))\n",
    "            print(\"TROCO: R${} \\n\".format((recebimento + falta) - total_compra))\n",
    "        else:\n",
    "            print(\"TROCO: R${} \\n\".format(recebimento - total_compra))\n",
    "    continue"
   ]
  },
  {
   "cell_type": "markdown",
   "metadata": {},
   "source": [
    "23. Foi feita uma estatística em cinco cidades brasileiras para coletar dados sobre\n",
    "acidentes de trânsito. Foram obtidos os seguintes dados:\n",
    "- Código da cidade;\n",
    "- Número de veículos de passeio (em 1999);\n",
    "- Número de acidentes de trânsito com vítimas (em 1999). Deseja-se saber:\n",
    "- Qual o maior e menor índice de acidentes de transito e a que cidade pertence;\n",
    "- Qual a média de veículos nas cinco cidades juntas;\n",
    "- Qual a média de acidentes de trânsito nas cidades com menos de 2.000 veículos de\n",
    "passeio."
   ]
  },
  {
   "cell_type": "code",
   "execution_count": 2,
   "metadata": {},
   "outputs": [
    {
     "name": "stdout",
     "output_type": "stream",
     "text": [
      "Insira o código da cidade: 1\n",
      "Insira a quantidade de carros: 23\n",
      "Insira o número de acidentes de transito: 5\n",
      "Insira o código da cidade: 2\n",
      "Insira a quantidade de carros: 900\n",
      "Insira o número de acidentes de transito: 470\n",
      "Insira o código da cidade: 3\n",
      "Insira a quantidade de carros: 40000\n",
      "Insira o número de acidentes de transito: 8923\n",
      "Insira o código da cidade: 4\n",
      "Insira a quantidade de carros: 123122\n",
      "Insira o número de acidentes de transito: 5321\n",
      "Insira o código da cidade: 5\n",
      "Insira a quantidade de carros: 3498765\n",
      "Insira o número de acidentes de transito: 79124\n",
      "\n",
      "O maior índice de acidentes é 79124, onde o código da cidade é 5\n",
      "\n",
      "O menor índice de acidentes é 5, onde o código da cidade é 1\n",
      "\n",
      "A média de veículos nas 5 cidades é 732562.00\n",
      "\n",
      "A média de acidentes nas cidades onde os veículos são menores que 2000 é: 237.50\n"
     ]
    }
   ],
   "source": [
    "x = 0\n",
    "estatistica = []\n",
    "cont = 0\n",
    "lista1 = []\n",
    "\n",
    "while(x < 5):\n",
    "    lista = []\n",
    "    id_cidade = int(input(\"Insira o código da cidade: \"))\n",
    "    n_carros = int(input(\"Insira a quantidade de carros: \"))\n",
    "    n_acidentes = int(input(\"Insira o número de acidentes de transito: \"))\n",
    "    lista = [id_cidade, n_carros, n_acidentes]\n",
    "    estatistica.append(lista)\n",
    "    x += 1\n",
    "\n",
    "#verifica a cidade com o maior e o menor indice de acidentes\n",
    "acidentes = {row[0]:row[2] for row in estatistica}\n",
    "chaves = list(acidentes.keys())\n",
    "valores = list(acidentes.values())\n",
    "\n",
    "maior = max(valores)\n",
    "indice_maior = valores.index(maior)\n",
    "print(\"\\nO maior índice de acidentes é %d, onde o código da cidade é %d\" %(maior, chaves[indice_maior]))\n",
    "menor = min(valores)\n",
    "indice_menor = valores.index(menor)\n",
    "print(\"\\nO menor índice de acidentes é %d, onde o código da cidade é %d\" %(menor, chaves[indice_menor]))\n",
    "\n",
    "#verifica a média de veículos nas 5 cidades\n",
    "veiculos = [row[1] for row in estatistica]\n",
    "media = sum(veiculos)/len(veiculos)\n",
    "print(\"\\nA média de veículos nas 5 cidades é %.2f\" %(media))\n",
    "\n",
    "#verifica a média de acidentes onde veiculos < 2000\n",
    "cidade_acidente = {row[0]:row[2] for row in estatistica}\n",
    "cidade_acidente_k = list(cidade_acidente.keys())\n",
    "cidade_acidente_v = list(cidade_acidente.values())\n",
    "\n",
    "cidade_veiculo = {row[0]:row[1] for row in estatistica}\n",
    "cidade_veiculo_k = list(cidade_veiculo.keys())\n",
    "cidade_veiculo_v = list(cidade_veiculo.values())\n",
    "\n",
    "for carro in cidade_veiculo_v:\n",
    "    if(carro < 2000):\n",
    "        indice_carro = cidade_veiculo_v.index(carro)\n",
    "        lista1 += [cidade_acidente_v[indice_carro]]\n",
    "        \n",
    "mediaCalculada = sum(lista1)/len(lista1)\n",
    "print('\\nA média de acidentes nas cidades onde os veículos são menores que 2000 é: %.2f' %(mediaCalculada))"
   ]
  },
  {
   "cell_type": "markdown",
   "metadata": {},
   "source": [
    "24. Faça um programa que receba o valor de uma dívida e mostre uma tabela com os\n",
    "seguintes dados: valor da dívida, valor dos juros, quantidade de parcelas e valor da\n",
    "parcela.\n",
    "Os juros e a quantidade de parcelas seguem a tabela abaixo:\n",
    "Quantidade de Parcelas % de Juros sobre o valor inicial da dívida\n",
    "1 0\n",
    "3 10\n",
    "6 15\n",
    "9 20\n",
    "12 25\n",
    "Exemplo de saída do programa:\n",
    "Valor da Dívida Valor dos Juros Quantidade de Parcelas Valor da Parcela\n",
    "R$ 1.000,00 0 1 R$ 1.000,00\n",
    "R$ 1.100,00 100 3 R$ 366,00\n",
    "R$ 1.150,00 150 6 R$ 191,67"
   ]
  },
  {
   "cell_type": "code",
   "execution_count": 3,
   "metadata": {},
   "outputs": [
    {
     "name": "stdout",
     "output_type": "stream",
     "text": [
      "Insira o valor da dívida: 27000\n",
      "-----------------------------------------------------------------------------------------------------------------------------\n",
      "Valor da Dívida\t\t|\tValor dos Juros\t\t|\tQuantidade de Parcelas\t\t|\tValor da Parcela\n",
      "-----------------------------------------------------------------------------------------------------------------------------\n",
      "27000.00\t\t\t|\t0.00\t\t\t|\t1\t\t\t\t|\t27000.00\n",
      "-----------------------------------------------------------------------------------------------------------------------------\n",
      "29700.00\t\t\t|\t2700.00\t\t\t|\t3\t\t\t\t|\t9900.00\n",
      "-----------------------------------------------------------------------------------------------------------------------------\n",
      "31050.00\t\t\t|\t4050.00\t\t\t|\t6\t\t\t\t|\t5175.00\n",
      "-----------------------------------------------------------------------------------------------------------------------------\n",
      "32400.00\t\t\t|\t5400.00\t\t\t|\t9\t\t\t\t|\t3600.00\n",
      "-----------------------------------------------------------------------------------------------------------------------------\n",
      "33750.00\t\t\t|\t6750.00\t\t\t|\t12\t\t\t\t|\t2812.50\n"
     ]
    }
   ],
   "source": [
    "divida = float(input(\"Insira o valor da dívida: \"))\n",
    "parcelas = [1, 3, 6, 9, 12]\n",
    "juros = [ 0, .10, .15, .20, .25]\n",
    "y = 0\n",
    "\n",
    "def valor_juros(valor_divida, valor_porcentagem):\n",
    "    return valor_divida * valor_porcentagem\n",
    "\n",
    "def valor_parcela(valor_divida, quantidade_parcelas):\n",
    "    return valor_divida / quantidade_parcelas\n",
    "\n",
    "def calcula_divida(valor_divida, valor_juros):\n",
    "    return valor_divida + valor_juros\n",
    "\n",
    "print(125 * '-')\n",
    "print('Valor da Dívida' + (2 * '\\t') + '|' + ('\\t') + 'Valor dos Juros' + (2 * '\\t') + '|' + ('\\t') + \n",
    "                             'Quantidade de Parcelas' + (2 * '\\t') + '|' + ('\\t') + 'Valor da Parcela')\n",
    "while(y < 5):\n",
    "    vlr_juros = valor_juros(divida, juros[y])\n",
    "    vlr_divida = calcula_divida(divida, vlr_juros)\n",
    "    qtdParcelas = parcelas[y]\n",
    "    vlr_parcela = valor_parcela(vlr_divida, qtdParcelas)\n",
    "    print(125 * '-')\n",
    "    print('%.2f'%(vlr_divida) + (3 * '\\t') + '|' + ('\\t') + '%.2f'%(vlr_juros) + (3 * '\\t') + '|' + ('\\t') + \n",
    "                             '%d'%(qtdParcelas) + (4 * '\\t') + '|' + ('\\t') + '%.2f'%(vlr_parcela))\n",
    "    \n",
    "    y += 1"
   ]
  },
  {
   "cell_type": "markdown",
   "metadata": {},
   "source": [
    "25. Faça um programa que mostre os n termos da Série a seguir:\n",
    "S = 1/1 + 2/3 + 3/5 + 4/7 + 5/9 + ... + n/m.\n",
    "Imprima no final a soma da série."
   ]
  },
  {
   "cell_type": "code",
   "execution_count": 1,
   "metadata": {},
   "outputs": [
    {
     "name": "stdout",
     "output_type": "stream",
     "text": [
      "Insira o n-ésimo termo: 10\n",
      "Soma da série = 6.07\n"
     ]
    }
   ],
   "source": [
    "n = int(input(\"Insira o n-ésimo termo: \"))\n",
    "lista = list(range(1, n + 1))\n",
    "cont = 0\n",
    "x = 1\n",
    "s = 0\n",
    "while(cont < len(lista)):\n",
    "    s += (lista[cont]/x)\n",
    "    x += 2\n",
    "    cont += 1\n",
    "print('Soma da série = %.2f' %(s))"
   ]
  },
  {
   "cell_type": "code",
   "execution_count": null,
   "metadata": {},
   "outputs": [],
   "source": []
  }
 ],
 "metadata": {
  "kernelspec": {
   "display_name": "Python 3",
   "language": "python",
   "name": "python3"
  },
  "language_info": {
   "codemirror_mode": {
    "name": "ipython",
    "version": 3
   },
   "file_extension": ".py",
   "mimetype": "text/x-python",
   "name": "python",
   "nbconvert_exporter": "python",
   "pygments_lexer": "ipython3",
   "version": "3.7.1"
  }
 },
 "nbformat": 4,
 "nbformat_minor": 2
}
