{
 "cells": [
  {
   "cell_type": "markdown",
   "metadata": {},
   "source": [
    "1 Faça um Programa que peça o raio de um círculo, calcule e mostre sua área."
   ]
  },
  {
   "cell_type": "code",
   "execution_count": 1,
   "metadata": {
    "scrolled": true
   },
   "outputs": [
    {
     "name": "stdout",
     "output_type": "stream",
     "text": [
      "Digite o raio5\n",
      "A área do circulo de raio 5 é 7.9e+01.\n"
     ]
    }
   ],
   "source": [
    "import math\n",
    "raio = int(input (\"Digite o raio\"))\n",
    "#type (raio)\n",
    "area = math.pi * (raio ** 2)\n",
    "print (f'A área do circulo de raio {raio} é {area:{5}.2}.')"
   ]
  },
  {
   "cell_type": "markdown",
   "metadata": {},
   "source": [
    "2 Faça um Programa que calcule a área de um quadrado, em seguida mostre o dobro\n",
    "desta área para o usuário."
   ]
  },
  {
   "cell_type": "code",
   "execution_count": 6,
   "metadata": {},
   "outputs": [
    {
     "name": "stdout",
     "output_type": "stream",
     "text": [
      "Digite o raio5\n",
      "O dobro da área do quadrado é 1.6e+02\n"
     ]
    }
   ],
   "source": [
    "import math\n",
    "raio= int(input('Digite o raio'))\n",
    "area= math.pi * (raio**2)\n",
    "dobro= area * 2\n",
    "print (f'O dobro da área do quadrado é {dobro:{5}.2}')"
   ]
  },
  {
   "cell_type": "markdown",
   "metadata": {},
   "source": [
    "3 Faça um Programa que pergunte quanto você ganha por hora e o número de horas\n",
    "trabalhadas no mês. Calcule e mostre o total do seu salário no referido mês."
   ]
  },
  {
   "cell_type": "code",
   "execution_count": 15,
   "metadata": {
    "scrolled": true
   },
   "outputs": [
    {
     "name": "stdout",
     "output_type": "stream",
     "text": [
      "Digite o valor da hora2\n",
      "Digite a quantidade de horas trabalhadas2\n",
      "Com valor de hora 2.00 e tendo trabalhado 2.00 horas, você ganhará 4.00\n",
      "\n"
     ]
    }
   ],
   "source": [
    "valor_hora= float (input (\"Digite o valor da hora\"))\n",
    "horas_trabalhadas= float(input(\"Digite a quantidade de horas trabalhadas\"))\n",
    "total= valor_hora * horas_trabalhadas\n",
    "print (\"Com valor de hora %.2f e tendo trabalhado %.2f horas, você ganhará %.2f\\n\" % (valor_hora, horas_trabalhadas, total))"
   ]
  },
  {
   "cell_type": "markdown",
   "metadata": {},
   "source": [
    "4 Faça um Programa que peça a temperatura em graus Farenheit, transforme e\n",
    "mostre a temperatura em graus Celsius. C = (5 * (F-32) / 9)."
   ]
  },
  {
   "cell_type": "code",
   "execution_count": 16,
   "metadata": {},
   "outputs": [
    {
     "name": "stdout",
     "output_type": "stream",
     "text": [
      "Digite a temperatura em Farenheit32\n",
      "O valor da temperatura em Farenheit 32.00, quando transformada em Celsius será 0.00\n"
     ]
    }
   ],
   "source": [
    "temperatura_farenheit= float (input(\"Digite a temperatura em Farenheit\"))\n",
    "temperatura_celsius= (5 * (temperatura_farenheit - 32) / 9)\n",
    "print (\"O valor da temperatura em Farenheit %.2f, quando transformada em Celsius será %.2f\" % (temperatura_farenheit, temperatura_celsius))"
   ]
  },
  {
   "cell_type": "markdown",
   "metadata": {},
   "source": [
    "5 Faça um Programa que peça a temperatura em graus Celsius, transforme e mostre\n",
    "em graus Farenheit."
   ]
  },
  {
   "cell_type": "code",
   "execution_count": 17,
   "metadata": {
    "scrolled": true
   },
   "outputs": [
    {
     "name": "stdout",
     "output_type": "stream",
     "text": [
      "Digite a temperatura em Celsius0\n",
      "O valor da temperatura em Celsius 0.00, quando transformada em Farenheit será 32.00\n"
     ]
    }
   ],
   "source": [
    "temperatura_celsius= float (input('Digite a temperatura em Celsius'))\n",
    "temperatura_farenheit= ((temperatura_celsius*9/5)+32)\n",
    "print (\"O valor da temperatura em Celsius %.2f, quando transformada em Farenheit será %.2f\" % (temperatura_celsius, temperatura_farenheit))"
   ]
  },
  {
   "cell_type": "markdown",
   "metadata": {},
   "source": [
    "6 Faça um Programa que peça 2 números inteiros e um número real. Calcule e\n",
    "mostre:\n",
    "- o produto do dobro do primeiro com metade do segundo .\n",
    "- a soma do triplo do primeiro com o terceiro.\n",
    "- o terceiro elevado ao cubo."
   ]
  },
  {
   "cell_type": "code",
   "execution_count": 22,
   "metadata": {},
   "outputs": [
    {
     "name": "stdout",
     "output_type": "stream",
     "text": [
      "Digite um número inteiro12\n",
      "Digite outro número inteiro4\n",
      "Digite um número real3.22\n",
      "O valor dos três calculos são, respectivamente:\n",
      " 48.00\n",
      " 39.22\n",
      " 33.39\n"
     ]
    }
   ],
   "source": [
    "primeiro_numero= int(input('Digite um número inteiro'))\n",
    "segundo_numero= int(input('Digite outro número inteiro'))\n",
    "numero_real= float(input('Digite um número real'))\n",
    "primeiro_calculo= ((primeiro_numero*2)*(segundo_numero/2))\n",
    "segundo_calculo= ((primeiro_numero*3) + numero_real)\n",
    "terceiro_calculo= (numero_real ** 3)\n",
    "print (\"O valor dos três calculos são, respectivamente:\\n %.2f\\n %.2f\\n %.2f\" % (primeiro_calculo, segundo_calculo, terceiro_calculo))"
   ]
  },
  {
   "cell_type": "markdown",
   "metadata": {},
   "source": [
    "7 João Papo-de-Pescador, homem de bem, comprou um microcomputador para\n",
    "controlar o rendimento diário de seu trabalho. Toda vez que ele traz um peso de\n",
    "peixes maior que o estabelecido pelo regulamento de pesca do estado de São Paulo\n",
    "(50 quilos) deve pagar uma multa de R$ 4,00 por quilo excedente. João precisa que\n",
    "você faça um programa que leia a variável peso (peso de peixes) e verifique se há\n",
    "excesso. Se houver, gravar na variável excesso e na variável multa o valor da multa\n",
    "que João deverá pagar. Caso contrário mostrar tais variáveis com o conteúdo ZERO.\n"
   ]
  },
  {
   "cell_type": "code",
   "execution_count": 1,
   "metadata": {},
   "outputs": [
    {
     "name": "stdout",
     "output_type": "stream",
     "text": [
      "Digite o peso de peixes51\n",
      "Excesso:1.0, Multa:4.0\n"
     ]
    }
   ],
   "source": [
    "peso_peixes= float (input('Digite o peso de peixes'))\n",
    "excesso= 0\n",
    "multa= 0\n",
    "if peso_peixes > 50:\n",
    "    excesso= peso_peixes - 50 \n",
    "    multa= 4 * excesso\n",
    "print(\"Excesso:{}, Multa:{}\".format(excesso, multa))    "
   ]
  },
  {
   "cell_type": "markdown",
   "metadata": {},
   "source": [
    "8 Faça um Programa que pergunte quanto você ganha por hora e o número de horas\n",
    "trabalhadas no mês. Calcule e mostre o total do seu salário no referido mês,\n",
    "sabendo-se que são descontados 11% para o Imposto de Renda, 8% para o INSS e 5%\n",
    "para o sindicato, faça um programa que nos dê:\n",
    "- salário bruto.\n",
    "- quanto pagou ao INSS.\n",
    "- quanto pagou ao sindicato.\n",
    "- o salário líquido.\n",
    "- calcule os descontos e o salário líquido, conforme a tabela abaixo:\n",
    " + Salário Bruto : R$\n",
    " - IR (11%) : R$\n",
    " - INSS (8%) : R$\n",
    " - Sindicato ( 5%) : R$\n",
    " = Salário Liquido : R$\n"
   ]
  },
  {
   "cell_type": "code",
   "execution_count": 28,
   "metadata": {},
   "outputs": [
    {
     "name": "stdout",
     "output_type": "stream",
     "text": [
      "Digite o valor da hora20\n",
      "Digite a quantidade de horas trabalhadas80\n",
      "Com valor de hora 20.00 e tendo trabalhado 80.00 horas, você receberá:\n",
      " + Salário Bruto: R$ 1600.00\n",
      " - IR: R$176.00\n",
      " - INSS: R$128.00\n",
      " - Sindicato: R$800.00\n",
      " = Salário Liquido: R$1216.00\n"
     ]
    }
   ],
   "source": [
    "valor_hora= float (input (\"Digite o valor da hora\"))\n",
    "horas_trabalhadas= float(input(\"Digite a quantidade de horas trabalhadas\"))\n",
    "salario_bruto= valor_hora * horas_trabalhadas\n",
    "inss= (salario_bruto * 0.08)\n",
    "imposto_renda= (salario_bruto * 0.11)\n",
    "sindicato= (salario_bruto * 0.5)\n",
    "salario_liquido= (salario_bruto * 0.76)\n",
    "print (\"Com valor de hora %.2f e tendo trabalhado %.2f horas, você receberá:\\n + Salário Bruto: R$ %.2f\\n - IR: R$%.2f\\n - INSS: R$%.2f\\n - Sindicato: R$%.2f\\n = Salário Liquido: R$%.2f\" % (valor_hora, horas_trabalhadas, salario_bruto, imposto_renda, inss, sindicato, salario_liquido))"
   ]
  },
  {
   "cell_type": "markdown",
   "metadata": {},
   "source": [
    "9 Faça um programa que leia 2 strings e informe o conteúdo delas seguido do seu\n",
    "comprimento. Informe também se as duas strings possuem o mesmo comprimento e\n",
    "são iguais ou diferentes no conteúdo.\n",
    "Exemplo:\n",
    "String 1: Brasil Hexa 2018\n",
    "String 2: Brasil! Hexa 2018!\n",
    "Tamanho de \"Brasil Hexa 2018\": 16 caracteres\n",
    "Tamanho de \"Brasil! Hexa 2018!\": 18 caracteres\n",
    "As duas strings são de tamanhos diferentes.\n",
    "As duas strings possuem conteúdo diferente."
   ]
  },
  {
   "cell_type": "code",
   "execution_count": 25,
   "metadata": {},
   "outputs": [
    {
     "name": "stdout",
     "output_type": "stream",
     "text": [
      "Digite a primeira frase.ola\n",
      "Digite a segunda frase.ola \n",
      "O Tamanho de 'ola'é 3 caracteres\n",
      "O Tamanho de 'ola 'é 4 caracteres\n",
      " As duas strings são de tamanhos diferentes\n",
      "as strings possuem conteudos diferentes\n"
     ]
    }
   ],
   "source": [
    "primeira_string= str (input(\"Digite a primeira frase.\"))\n",
    "segunda_string= str (input ('Digite a segunda frase.'))\n",
    "tamanho = ' As duas strings são de tamanhos diferentes'\n",
    "conteudo = 'as strings possuem conteudos diferentes'\n",
    "i = 0\n",
    "if(len(primeira_string) == len(segunda_string)):\n",
    "    tamanho = 'As strings possuem o mesmo tamanho.'\n",
    "    conteudo = 'As duas strings possuem conteúdo igual'\n",
    "    for x in primeira_string:\n",
    "        if(segunda_string[i] != x):\n",
    "            conteudo = 'As strings possuem conteudos diferentes'\n",
    "        i = i+1        \n",
    "print(\"O Tamanho de \"+\"'{}'é {} caracteres\" . format(primeira_string,len(primeira_string))) \n",
    "print(\"O Tamanho de \"+\"'{}'é {} caracteres\" . format(segunda_string,len(segunda_string)))\n",
    "print(\"{}\".format(tamanho))\n",
    "print(\"{}\".format(conteudo))"
   ]
  },
  {
   "cell_type": "markdown",
   "metadata": {},
   "source": [
    "10 Faça um programa que permita ao usuário digitar o seu nome e em seguida\n",
    "mostre o nome do usuário de trás para frente utilizando somente letras maiúsculas.\n",
    "Dica: lembre−se que ao informar o nome o usuário pode digitar letras maiúsculas ou\n",
    "minúsculas. Observação: não use loops."
   ]
  },
  {
   "cell_type": "code",
   "execution_count": 19,
   "metadata": {},
   "outputs": [
    {
     "name": "stdout",
     "output_type": "stream",
     "text": [
      "Digite seu nomePaBLo\n",
      "OLBAP\n"
     ]
    }
   ],
   "source": [
    "nome= (input(\"Digite seu nome\"))\n",
    "nome_maiusculo= nome.upper()\n",
    "nome_contrario= nome_maiusculo[::-1]\n",
    "print(nome_contrario)\n"
   ]
  },
  {
   "cell_type": "markdown",
   "metadata": {},
   "source": [
    "11 Faça um programa que solicite a data de nascimento (dd/mm/aaaa) do usuário e\n",
    "imprima a data com o nome do mês por extenso.\n",
    "Data de Nascimento: 29/10/1973\n",
    "Você nasceu em 29 de Outubro de 1973.\n",
    "Obs.: Não use desvio condicional nem loops."
   ]
  },
  {
   "cell_type": "code",
   "execution_count": 10,
   "metadata": {},
   "outputs": [
    {
     "name": "stdout",
     "output_type": "stream",
     "text": [
      "Digite sua data de nascimento no formato dd/mm/aaaa26/06/1998\n",
      "Você nasceu em 26 de junho de 1998\n"
     ]
    }
   ],
   "source": [
    "data_de_aniversario= str(input (\"Digite sua data de nascimento no formato dd/mm/aaaa\"))\n",
    "data_extenso= data_de_aniversario.split('/')\n",
    "dia= data_extenso[0]\n",
    "mes= data_extenso[1]\n",
    "ano= data_extenso[2]\n",
    "mes= mes.replace ('01', 'janeiro')\n",
    "mes= mes.replace ('02', 'fevereiro')\n",
    "mes= mes.replace ('03', 'março')\n",
    "mes= mes.replace ('04', 'abril')\n",
    "mes= mes.replace ('05', 'maio')\n",
    "mes= mes.replace ('06', 'junho')\n",
    "mes= mes.replace ('07', 'julho')\n",
    "mes= mes.replace ('08', 'agosto')\n",
    "mes= mes.replace ('09', 'setembro')\n",
    "mes= mes.replace ('10', 'outubro')\n",
    "mes= mes.replace ('11', 'novembro')\n",
    "mes= mes.replace ('12', 'dezembro')\n",
    "print(f'Você nasceu em {dia} de {mes} de {ano}')\n"
   ]
  },
  {
   "cell_type": "markdown",
   "metadata": {},
   "source": [
    "12 Leet é uma forma de se escrever o alfabeto latino usando outros símbolos em\n",
    "lugar das letras, como números por exemplo. A própria palavra leet admite muitas\n",
    "variações, como l33t ou 1337. O uso do leet reflete uma subcultura relacionada ao\n",
    "mundo dos jogos de computador e internet, sendo muito usada para confundir os\n",
    "iniciantes e afirmar-se como parte de um grupo. Pesquise sobre as principais formas\n",
    "de traduzir as letras. Depois, faça um programa que peça uma texto e transforme-o\n",
    "para a grafia leet speak.\n",
    "Desafio: não use loops nem desvios condicionais.\n"
   ]
  },
  {
   "cell_type": "code",
   "execution_count": 21,
   "metadata": {},
   "outputs": [
    {
     "name": "stdout",
     "output_type": "stream",
     "text": [
      "Digite um textolorem ipsum\n",
      "A Tradução do texto em leet é 1()|23|\\/| !|>5(_)|\\/|\n"
     ]
    }
   ],
   "source": [
    "texto= str(input('Digite um texto')).upper()\n",
    "texto= texto.replace('A', '4')\n",
    "texto= texto.replace('B', '|3')\n",
    "texto= texto.replace('C', '¢')\n",
    "texto= texto.replace('D', '[D')\n",
    "texto= texto.replace('E', '3')\n",
    "texto= texto.replace('F', 'ph')\n",
    "texto= texto.replace('G', '6')\n",
    "texto= texto.replace('H', '}{')\n",
    "texto= texto.replace('I', '!')\n",
    "texto= texto.replace('J', '_/')\n",
    "texto= texto.replace('K', '}<')\n",
    "texto= texto.replace('L', '1')\n",
    "texto= texto.replace('M', '|\\/|')\n",
    "texto= texto.replace('N', '/\\/')\n",
    "texto= texto.replace('O', '()')\n",
    "texto= texto.replace('P', '|>')\n",
    "texto= texto.replace('Q', '9')\n",
    "texto= texto.replace('R', '|2')\n",
    "texto= texto.replace('S', '5')\n",
    "texto= texto.replace('T', '7')\n",
    "texto= texto.replace('U', '(_)')\n",
    "texto= texto.replace('V', '\\/')\n",
    "texto= texto.replace('W', '\\X/')\n",
    "texto= texto.replace('X', '}|{')\n",
    "texto= texto.replace('Y', '¥')\n",
    "texto= texto.replace('Z', '2')\n",
    "\n",
    "print(f'A Tradução do texto em leet é {texto}')\n"
   ]
  },
  {
   "cell_type": "code",
   "execution_count": null,
   "metadata": {},
   "outputs": [],
   "source": []
  }
 ],
 "metadata": {
  "kernelspec": {
   "display_name": "Python 3",
   "language": "python",
   "name": "python3"
  },
  "language_info": {
   "codemirror_mode": {
    "name": "ipython",
    "version": 3
   },
   "file_extension": ".py",
   "mimetype": "text/x-python",
   "name": "python",
   "nbconvert_exporter": "python",
   "pygments_lexer": "ipython3",
   "version": "3.7.1"
  }
 },
 "nbformat": 4,
 "nbformat_minor": 2
}
