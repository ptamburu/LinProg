{
 "cells": [
  {
   "cell_type": "markdown",
   "metadata": {},
   "source": [
    "1 Menor de dois pares: Escreva uma função que retorne o menor de dois números\n",
    "dados se ambos os números forem pares, mas retorna o maior se um dos dois for\n",
    "ímpar. Exemplo:\n",
    "menor_de_dois_pares(2,4) --> 2\n",
    "menor_de_dois_pares (2,5) --> 5"
   ]
  },
  {
   "cell_type": "code",
   "execution_count": 6,
   "metadata": {},
   "outputs": [
    {
     "data": {
      "text/plain": [
       "14"
      ]
     },
     "execution_count": 6,
     "metadata": {},
     "output_type": "execute_result"
    }
   ],
   "source": [
    "def retorna(num1,num2):\n",
    "    if num1%2==0 and num2%2==0:\n",
    "            if num1<num2:\n",
    "                return num1\n",
    "            else:\n",
    "                return num2\n",
    "    elif num1>2:\n",
    "        return num1\n",
    "    else:\n",
    "        return num2\n",
    "\n",
    "retorna(22, 14)"
   ]
  },
  {
   "cell_type": "markdown",
   "metadata": {},
   "source": [
    "2 Mesma letra: Escreva uma função que receba uma string com duas palavras e\n",
    "retorne True se ambas palavras começarem com a mesma letra. Exemplo:\n",
    "mesma_letra('Cão covarde') -> True\n",
    "mesma_letra('Vira Lata') -> False"
   ]
  },
  {
   "cell_type": "code",
   "execution_count": 7,
   "metadata": {},
   "outputs": [
    {
     "name": "stdout",
     "output_type": "stream",
     "text": [
      "Digite duas palavras: cao covarde\n",
      "cao\n",
      "covarde\n",
      "True\n"
     ]
    }
   ],
   "source": [
    "def duasPalavras(word1,word2):\n",
    "    if word1[0]== word2[0]:\n",
    "        return True\n",
    "    else:\n",
    "        return False\n",
    "\n",
    "word1, word2 = input('Digite duas palavras: ').split(\" \", 1)\n",
    "print(word1)\n",
    "print(word2)\n",
    "print(duasPalavras(word1,word2))"
   ]
  },
  {
   "cell_type": "markdown",
   "metadata": {},
   "source": [
    "3 Mestre Yoda: Dada uma sentença, a função deve retornar a sentença com as\n",
    "palavras na ordem reversa. Exemplo:\n",
    "mestre_yoda('Eu estou em casa') --> 'casa em estou Eu'\n",
    "mestre_yoda('Estamos prontos') --> 'prontos Estamos'\n"
   ]
  },
  {
   "cell_type": "code",
   "execution_count": 3,
   "metadata": {},
   "outputs": [
    {
     "name": "stdout",
     "output_type": "stream",
     "text": [
      "estamos prontos\n",
      "['estamos', 'prontos']\n",
      "prontos\n",
      "estamos\n",
      "None\n"
     ]
    }
   ],
   "source": [
    "def yoda(word):\n",
    "    y= len(word)\n",
    "    for x in range(0,y):\n",
    "        print(word[(y-x)-1])\n",
    "\n",
    "word = input('Digite uma frase: ').split(\" \")\n",
    "print(word)\n",
    "\n",
    "print(yoda(word))\n"
   ]
  },
  {
   "cell_type": "markdown",
   "metadata": {},
   "source": [
    "4 Tem 33: Faça uma função que retorne True se, dada uma lista de inteiros, houver\n",
    "em alguma posição da lista um 3 do lado de outro 3. Exemplo:\n",
    "tem_33([1,3,3]) --> True\n",
    "tem_33([1,3,1,3]) --> False\n",
    "tem_33([3,1,3]) --> False\n"
   ]
  },
  {
   "cell_type": "code",
   "execution_count": 4,
   "metadata": {},
   "outputs": [
    {
     "data": {
      "text/plain": [
       "False"
      ]
     },
     "execution_count": 4,
     "metadata": {},
     "output_type": "execute_result"
    }
   ],
   "source": [
    "def tem_33 (lista):\n",
    "    estado = 'nada'\n",
    "    for n in lista:\n",
    "        if n == 3 and estado == 'nada':\n",
    "            estado = '3'\n",
    "        elif n == 3 and estado == '3':\n",
    "            return True\n",
    "            break\n",
    "        else:\n",
    "            estado = 'nada'\n",
    "    else:\n",
    "        return False\n",
    "tem_33([1,3,3])\n",
    "tem_33([1,3,1,3])"
   ]
  },
  {
   "cell_type": "markdown",
   "metadata": {},
   "source": [
    "5 Blackjack: Faça uma função que receba 3 inteiros entre 1 e 11. Se a soma deles for menor que 21, retorne o valor da soma. Se for mair do que 21 e houver um 11, subtraia 10 da soma antes de apresentar o resultado. Se o valor da soma passar de 21, retorne ‘ESTOUROU’. Exemplo:\n",
    "\n",
    "blackjack(5,6,7) --> 18 blackjack(9,9,9) --> 'ESTOUROU' blackjack(9,9,11) --> 19"
   ]
  },
  {
   "cell_type": "code",
   "execution_count": 9,
   "metadata": {},
   "outputs": [
    {
     "name": "stdout",
     "output_type": "stream",
     "text": [
      "Estourou\n"
     ]
    }
   ],
   "source": [
    "def blackjack(x,y,z):\n",
    "    if x+y+z <=21:\n",
    "        return print(x+y+z)\n",
    "    \n",
    "    else:\n",
    "        if x==11:\n",
    "            x=1\n",
    "        elif y==11:\n",
    "            y=1\n",
    "        elif z==11:\n",
    "            z=1\n",
    "        \n",
    "        if x+y+z<=21:\n",
    "            return(print(x+y+z))\n",
    "        else:\n",
    "            return(print(\"Estourou\"))\n",
    "\n",
    "blackjack(7,7,8)"
   ]
  },
  {
   "cell_type": "markdown",
   "metadata": {},
   "source": [
    "6 Espião: Escreva uma função que receba uma lista de inteiros e retorne True se contém um 007 em ordem, mesmo que não contínuo. Exemplo: espiao([1,2,4,0,0,7,5]) --> True espiao([1,0,2,4,0,5,7]) --> True espiao([1,7,2,4,0,5,0]) --> False"
   ]
  },
  {
   "cell_type": "code",
   "execution_count": 11,
   "metadata": {},
   "outputs": [
    {
     "name": "stdout",
     "output_type": "stream",
     "text": [
      "Sim temos um espiao !!!!\n"
     ]
    }
   ],
   "source": [
    "def espiao (lista):\n",
    "    estado = 'nada'\n",
    "    for n in lista:\n",
    "        if n == 0 and estado == 'nada':\n",
    "            estado = '0'\n",
    "        elif n == 0  and estado == '0':\n",
    "            estado = '00'\n",
    "        elif n == 7 and estado == '00':\n",
    "            print (\"Sim temos um espiao !!!!\")\n",
    "            break\n",
    "    else:\n",
    "        print (\"tem espiao aqui n\")\n",
    "espiao([1,2,4,0,0,7,5])"
   ]
  },
  {
   "cell_type": "code",
   "execution_count": null,
   "metadata": {},
   "outputs": [],
   "source": []
  }
 ],
 "metadata": {
  "kernelspec": {
   "display_name": "Python 3",
   "language": "python",
   "name": "python3"
  },
  "language_info": {
   "codemirror_mode": {
    "name": "ipython",
    "version": 3
   },
   "file_extension": ".py",
   "mimetype": "text/x-python",
   "name": "python",
   "nbconvert_exporter": "python",
   "pygments_lexer": "ipython3",
   "version": "3.7.1"
  }
 },
 "nbformat": 4,
 "nbformat_minor": 2
}
